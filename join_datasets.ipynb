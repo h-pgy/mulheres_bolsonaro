{
 "cells": [
  {
   "cell_type": "code",
   "execution_count": 1,
   "id": "140275b0-0dce-4e13-b78c-1e6558387a22",
   "metadata": {},
   "outputs": [],
   "source": [
    "import pandas as pd\n",
    "import numpy as np\n",
    "import matplotlib.pyplot as plt\n",
    "import seaborn as sns\n",
    "\n",
    "\n",
    "from core.utils import solve_path, lst_files\n",
    "\n",
    "sns.set()"
   ]
  },
  {
   "cell_type": "code",
   "execution_count": 2,
   "id": "5d4260ba-6479-441b-8b1c-731c501279c7",
   "metadata": {},
   "outputs": [],
   "source": [
    "folder_modelagem = solve_path('dados_modelagem', 'data')"
   ]
  },
  {
   "cell_type": "code",
   "execution_count": 3,
   "id": "31941d13-ab2c-42d7-ad57-f9b4d076071c",
   "metadata": {},
   "outputs": [],
   "source": [
    "csvs = lst_files(folder_modelagem, 'csv')"
   ]
  },
  {
   "cell_type": "code",
   "execution_count": 4,
   "id": "b589e466-30db-4aae-a5a7-6eeb84967a25",
   "metadata": {},
   "outputs": [
    {
     "data": {
      "text/plain": [
       "['/home/h-pgy/Desktop/Projetos/mulheres_bolsonaro/data/dados_modelagem/var_exogenas_modelo.csv',\n",
       " '/home/h-pgy/Desktop/Projetos/mulheres_bolsonaro/data/dados_modelagem/votos_por_zona.csv',\n",
       " '/home/h-pgy/Desktop/Projetos/mulheres_bolsonaro/data/dados_modelagem/dados_modelagem_final.csv']"
      ]
     },
     "execution_count": 4,
     "metadata": {},
     "output_type": "execute_result"
    }
   ],
   "source": [
    "csvs"
   ]
  },
  {
   "cell_type": "code",
   "execution_count": 5,
   "id": "67b0c7dc-1eee-4d07-a803-faf7bad279b1",
   "metadata": {},
   "outputs": [],
   "source": [
    "fpath_exogenas = solve_path('var_exogenas_modelo.csv', folder_modelagem)\n",
    "fpath_endogenas = solve_path('votos_por_zona.csv', folder_modelagem)"
   ]
  },
  {
   "cell_type": "code",
   "execution_count": 6,
   "id": "34fbcc04-2ba2-4023-85df-4fd58b7047df",
   "metadata": {},
   "outputs": [],
   "source": [
    "exog = pd.read_csv(fpath_exogenas, sep=';')"
   ]
  },
  {
   "cell_type": "code",
   "execution_count": 7,
   "id": "d11e450b-10d7-4fab-a5f5-39cddaed4a9a",
   "metadata": {},
   "outputs": [
    {
     "data": {
      "text/html": [
       "<div>\n",
       "<style scoped>\n",
       "    .dataframe tbody tr th:only-of-type {\n",
       "        vertical-align: middle;\n",
       "    }\n",
       "\n",
       "    .dataframe tbody tr th {\n",
       "        vertical-align: top;\n",
       "    }\n",
       "\n",
       "    .dataframe thead th {\n",
       "        text-align: right;\n",
       "    }\n",
       "</style>\n",
       "<table border=\"1\" class=\"dataframe\">\n",
       "  <thead>\n",
       "    <tr style=\"text-align: right;\">\n",
       "      <th></th>\n",
       "      <th>nr_zona</th>\n",
       "      <th>prop_mulheres</th>\n",
       "      <th>prop_superior_completo</th>\n",
       "      <th>prop_sem_fundametal</th>\n",
       "      <th>prop_mais_60_anos</th>\n",
       "      <th>prop_menos_25_anos</th>\n",
       "    </tr>\n",
       "  </thead>\n",
       "  <tbody>\n",
       "    <tr>\n",
       "      <th>0</th>\n",
       "      <td>1</td>\n",
       "      <td>0.521366</td>\n",
       "      <td>0.322225</td>\n",
       "      <td>0.154731</td>\n",
       "      <td>0.285246</td>\n",
       "      <td>0.071691</td>\n",
       "    </tr>\n",
       "    <tr>\n",
       "      <th>1</th>\n",
       "      <td>2</td>\n",
       "      <td>0.544536</td>\n",
       "      <td>0.432805</td>\n",
       "      <td>0.087887</td>\n",
       "      <td>0.324000</td>\n",
       "      <td>0.076005</td>\n",
       "    </tr>\n",
       "    <tr>\n",
       "      <th>2</th>\n",
       "      <td>3</td>\n",
       "      <td>0.501387</td>\n",
       "      <td>0.153666</td>\n",
       "      <td>0.229940</td>\n",
       "      <td>0.264833</td>\n",
       "      <td>0.102532</td>\n",
       "    </tr>\n",
       "    <tr>\n",
       "      <th>3</th>\n",
       "      <td>4</td>\n",
       "      <td>0.536943</td>\n",
       "      <td>0.257316</td>\n",
       "      <td>0.151490</td>\n",
       "      <td>0.302248</td>\n",
       "      <td>0.095024</td>\n",
       "    </tr>\n",
       "    <tr>\n",
       "      <th>4</th>\n",
       "      <td>5</td>\n",
       "      <td>0.546311</td>\n",
       "      <td>0.524865</td>\n",
       "      <td>0.057162</td>\n",
       "      <td>0.364926</td>\n",
       "      <td>0.059899</td>\n",
       "    </tr>\n",
       "  </tbody>\n",
       "</table>\n",
       "</div>"
      ],
      "text/plain": [
       "   nr_zona  prop_mulheres  prop_superior_completo  prop_sem_fundametal  \\\n",
       "0        1       0.521366                0.322225             0.154731   \n",
       "1        2       0.544536                0.432805             0.087887   \n",
       "2        3       0.501387                0.153666             0.229940   \n",
       "3        4       0.536943                0.257316             0.151490   \n",
       "4        5       0.546311                0.524865             0.057162   \n",
       "\n",
       "   prop_mais_60_anos  prop_menos_25_anos  \n",
       "0           0.285246            0.071691  \n",
       "1           0.324000            0.076005  \n",
       "2           0.264833            0.102532  \n",
       "3           0.302248            0.095024  \n",
       "4           0.364926            0.059899  "
      ]
     },
     "execution_count": 7,
     "metadata": {},
     "output_type": "execute_result"
    }
   ],
   "source": [
    "exog.head()"
   ]
  },
  {
   "cell_type": "code",
   "execution_count": 8,
   "id": "82fd104c-da82-4617-9bc4-0ba61224a9bc",
   "metadata": {},
   "outputs": [],
   "source": [
    "endog = pd.read_csv(fpath_endogenas, sep=';')"
   ]
  },
  {
   "cell_type": "code",
   "execution_count": 9,
   "id": "d50732a3-9ced-4084-8ce3-73e3f5ce4afe",
   "metadata": {},
   "outputs": [
    {
     "data": {
      "text/html": [
       "<div>\n",
       "<style scoped>\n",
       "    .dataframe tbody tr th:only-of-type {\n",
       "        vertical-align: middle;\n",
       "    }\n",
       "\n",
       "    .dataframe tbody tr th {\n",
       "        vertical-align: top;\n",
       "    }\n",
       "\n",
       "    .dataframe thead th {\n",
       "        text-align: right;\n",
       "    }\n",
       "</style>\n",
       "<table border=\"1\" class=\"dataframe\">\n",
       "  <thead>\n",
       "    <tr style=\"text-align: right;\">\n",
       "      <th></th>\n",
       "      <th>nr_zona</th>\n",
       "      <th>qt_aptos</th>\n",
       "      <th>qt_comparecimento</th>\n",
       "      <th>qt_abstencoes</th>\n",
       "      <th>jair_bolsonaro</th>\n",
       "      <th>branco</th>\n",
       "      <th>lula</th>\n",
       "      <th>nulo</th>\n",
       "    </tr>\n",
       "  </thead>\n",
       "  <tbody>\n",
       "    <tr>\n",
       "      <th>0</th>\n",
       "      <td>1</td>\n",
       "      <td>152763</td>\n",
       "      <td>112348</td>\n",
       "      <td>40415</td>\n",
       "      <td>38733</td>\n",
       "      <td>1763</td>\n",
       "      <td>68072</td>\n",
       "      <td>3780</td>\n",
       "    </tr>\n",
       "    <tr>\n",
       "      <th>1</th>\n",
       "      <td>2</td>\n",
       "      <td>196996</td>\n",
       "      <td>151435</td>\n",
       "      <td>45561</td>\n",
       "      <td>63525</td>\n",
       "      <td>2774</td>\n",
       "      <td>79314</td>\n",
       "      <td>5822</td>\n",
       "    </tr>\n",
       "    <tr>\n",
       "      <th>2</th>\n",
       "      <td>3</td>\n",
       "      <td>80219</td>\n",
       "      <td>57700</td>\n",
       "      <td>22519</td>\n",
       "      <td>25295</td>\n",
       "      <td>1020</td>\n",
       "      <td>29166</td>\n",
       "      <td>2219</td>\n",
       "    </tr>\n",
       "    <tr>\n",
       "      <th>3</th>\n",
       "      <td>4</td>\n",
       "      <td>165153</td>\n",
       "      <td>127249</td>\n",
       "      <td>37904</td>\n",
       "      <td>69747</td>\n",
       "      <td>2475</td>\n",
       "      <td>49445</td>\n",
       "      <td>5582</td>\n",
       "    </tr>\n",
       "    <tr>\n",
       "      <th>4</th>\n",
       "      <td>5</td>\n",
       "      <td>126805</td>\n",
       "      <td>95235</td>\n",
       "      <td>31570</td>\n",
       "      <td>48121</td>\n",
       "      <td>2007</td>\n",
       "      <td>41347</td>\n",
       "      <td>3760</td>\n",
       "    </tr>\n",
       "  </tbody>\n",
       "</table>\n",
       "</div>"
      ],
      "text/plain": [
       "   nr_zona  qt_aptos  qt_comparecimento  qt_abstencoes  jair_bolsonaro  \\\n",
       "0        1    152763             112348          40415           38733   \n",
       "1        2    196996             151435          45561           63525   \n",
       "2        3     80219              57700          22519           25295   \n",
       "3        4    165153             127249          37904           69747   \n",
       "4        5    126805              95235          31570           48121   \n",
       "\n",
       "   branco   lula  nulo  \n",
       "0    1763  68072  3780  \n",
       "1    2774  79314  5822  \n",
       "2    1020  29166  2219  \n",
       "3    2475  49445  5582  \n",
       "4    2007  41347  3760  "
      ]
     },
     "execution_count": 9,
     "metadata": {},
     "output_type": "execute_result"
    }
   ],
   "source": [
    "endog.head()"
   ]
  },
  {
   "cell_type": "code",
   "execution_count": 10,
   "id": "c55b65ab-57dc-4b93-927b-260cc0b5b6ab",
   "metadata": {},
   "outputs": [],
   "source": [
    "endog['prop_abstencao'] = endog['qt_abstencoes']/endog['qt_aptos']"
   ]
  },
  {
   "cell_type": "code",
   "execution_count": 11,
   "id": "4d36041a-7ad4-4a6a-872e-fbcb8f59109f",
   "metadata": {},
   "outputs": [],
   "source": [
    "votos = ['jair_bolsonaro', 'branco', 'lula', 'nulo']"
   ]
  },
  {
   "cell_type": "markdown",
   "id": "36067576-bf14-47f0-854c-bc7b3c4f8858",
   "metadata": {},
   "source": [
    "Checando se o comparecimento representa a quantidade total de votos na Zona,\n",
    "incluindo nulos e brancos"
   ]
  },
  {
   "cell_type": "code",
   "execution_count": 12,
   "id": "e31d58f0-d210-426d-b71a-30bb741606a5",
   "metadata": {},
   "outputs": [
    {
     "data": {
      "text/plain": [
       "True"
      ]
     },
     "execution_count": 12,
     "metadata": {},
     "output_type": "execute_result"
    }
   ],
   "source": [
    "(endog[votos].sum(axis=1)==endog['qt_comparecimento']).all()"
   ]
  },
  {
   "cell_type": "code",
   "execution_count": 13,
   "id": "043b58a7-3a05-4eee-b8d8-928b2df48b95",
   "metadata": {},
   "outputs": [],
   "source": [
    "endog['prop_votos_bolsonaro'] = endog['jair_bolsonaro']/endog['qt_comparecimento']"
   ]
  },
  {
   "cell_type": "code",
   "execution_count": 14,
   "id": "96168070-7401-480c-b355-4711f47b0bea",
   "metadata": {},
   "outputs": [],
   "source": [
    "endog = endog[['nr_zona', 'prop_votos_bolsonaro', 'prop_abstencao']].copy()"
   ]
  },
  {
   "cell_type": "code",
   "execution_count": 15,
   "id": "fd756386-5964-4b4c-aa46-58d212618779",
   "metadata": {},
   "outputs": [
    {
     "data": {
      "text/html": [
       "<div>\n",
       "<style scoped>\n",
       "    .dataframe tbody tr th:only-of-type {\n",
       "        vertical-align: middle;\n",
       "    }\n",
       "\n",
       "    .dataframe tbody tr th {\n",
       "        vertical-align: top;\n",
       "    }\n",
       "\n",
       "    .dataframe thead th {\n",
       "        text-align: right;\n",
       "    }\n",
       "</style>\n",
       "<table border=\"1\" class=\"dataframe\">\n",
       "  <thead>\n",
       "    <tr style=\"text-align: right;\">\n",
       "      <th></th>\n",
       "      <th>nr_zona</th>\n",
       "      <th>prop_votos_bolsonaro</th>\n",
       "      <th>prop_abstencao</th>\n",
       "    </tr>\n",
       "  </thead>\n",
       "  <tbody>\n",
       "    <tr>\n",
       "      <th>0</th>\n",
       "      <td>1</td>\n",
       "      <td>0.344759</td>\n",
       "      <td>0.264560</td>\n",
       "    </tr>\n",
       "    <tr>\n",
       "      <th>1</th>\n",
       "      <td>2</td>\n",
       "      <td>0.419487</td>\n",
       "      <td>0.231279</td>\n",
       "    </tr>\n",
       "    <tr>\n",
       "      <th>2</th>\n",
       "      <td>3</td>\n",
       "      <td>0.438388</td>\n",
       "      <td>0.280719</td>\n",
       "    </tr>\n",
       "    <tr>\n",
       "      <th>3</th>\n",
       "      <td>4</td>\n",
       "      <td>0.548114</td>\n",
       "      <td>0.229508</td>\n",
       "    </tr>\n",
       "    <tr>\n",
       "      <th>4</th>\n",
       "      <td>5</td>\n",
       "      <td>0.505287</td>\n",
       "      <td>0.248965</td>\n",
       "    </tr>\n",
       "  </tbody>\n",
       "</table>\n",
       "</div>"
      ],
      "text/plain": [
       "   nr_zona  prop_votos_bolsonaro  prop_abstencao\n",
       "0        1              0.344759        0.264560\n",
       "1        2              0.419487        0.231279\n",
       "2        3              0.438388        0.280719\n",
       "3        4              0.548114        0.229508\n",
       "4        5              0.505287        0.248965"
      ]
     },
     "execution_count": 15,
     "metadata": {},
     "output_type": "execute_result"
    }
   ],
   "source": [
    "endog.head()"
   ]
  },
  {
   "cell_type": "code",
   "execution_count": 16,
   "id": "5a580100-e2a8-4403-8b9b-5e2cde711921",
   "metadata": {},
   "outputs": [],
   "source": [
    "df_final = pd.merge(endog, exog, on='nr_zona', how='inner')"
   ]
  },
  {
   "cell_type": "code",
   "execution_count": 17,
   "id": "002bcb58-a2c1-4b2e-a5a4-13094464a35e",
   "metadata": {},
   "outputs": [
    {
     "data": {
      "text/plain": [
       "True"
      ]
     },
     "execution_count": 17,
     "metadata": {},
     "output_type": "execute_result"
    }
   ],
   "source": [
    "len(df_final)==len(endog)==len(exog)==58"
   ]
  },
  {
   "cell_type": "code",
   "execution_count": 18,
   "id": "dc232ddd-f3db-44b4-bfdf-2d01bfe930b1",
   "metadata": {},
   "outputs": [
    {
     "data": {
      "text/html": [
       "<div>\n",
       "<style scoped>\n",
       "    .dataframe tbody tr th:only-of-type {\n",
       "        vertical-align: middle;\n",
       "    }\n",
       "\n",
       "    .dataframe tbody tr th {\n",
       "        vertical-align: top;\n",
       "    }\n",
       "\n",
       "    .dataframe thead th {\n",
       "        text-align: right;\n",
       "    }\n",
       "</style>\n",
       "<table border=\"1\" class=\"dataframe\">\n",
       "  <thead>\n",
       "    <tr style=\"text-align: right;\">\n",
       "      <th></th>\n",
       "      <th>nr_zona</th>\n",
       "      <th>prop_votos_bolsonaro</th>\n",
       "      <th>prop_abstencao</th>\n",
       "      <th>prop_mulheres</th>\n",
       "      <th>prop_superior_completo</th>\n",
       "      <th>prop_sem_fundametal</th>\n",
       "      <th>prop_mais_60_anos</th>\n",
       "      <th>prop_menos_25_anos</th>\n",
       "    </tr>\n",
       "  </thead>\n",
       "  <tbody>\n",
       "    <tr>\n",
       "      <th>0</th>\n",
       "      <td>1</td>\n",
       "      <td>0.344759</td>\n",
       "      <td>0.264560</td>\n",
       "      <td>0.521366</td>\n",
       "      <td>0.322225</td>\n",
       "      <td>0.154731</td>\n",
       "      <td>0.285246</td>\n",
       "      <td>0.071691</td>\n",
       "    </tr>\n",
       "    <tr>\n",
       "      <th>1</th>\n",
       "      <td>2</td>\n",
       "      <td>0.419487</td>\n",
       "      <td>0.231279</td>\n",
       "      <td>0.544536</td>\n",
       "      <td>0.432805</td>\n",
       "      <td>0.087887</td>\n",
       "      <td>0.324000</td>\n",
       "      <td>0.076005</td>\n",
       "    </tr>\n",
       "    <tr>\n",
       "      <th>2</th>\n",
       "      <td>3</td>\n",
       "      <td>0.438388</td>\n",
       "      <td>0.280719</td>\n",
       "      <td>0.501387</td>\n",
       "      <td>0.153666</td>\n",
       "      <td>0.229940</td>\n",
       "      <td>0.264833</td>\n",
       "      <td>0.102532</td>\n",
       "    </tr>\n",
       "    <tr>\n",
       "      <th>3</th>\n",
       "      <td>4</td>\n",
       "      <td>0.548114</td>\n",
       "      <td>0.229508</td>\n",
       "      <td>0.536943</td>\n",
       "      <td>0.257316</td>\n",
       "      <td>0.151490</td>\n",
       "      <td>0.302248</td>\n",
       "      <td>0.095024</td>\n",
       "    </tr>\n",
       "    <tr>\n",
       "      <th>4</th>\n",
       "      <td>5</td>\n",
       "      <td>0.505287</td>\n",
       "      <td>0.248965</td>\n",
       "      <td>0.546311</td>\n",
       "      <td>0.524865</td>\n",
       "      <td>0.057162</td>\n",
       "      <td>0.364926</td>\n",
       "      <td>0.059899</td>\n",
       "    </tr>\n",
       "  </tbody>\n",
       "</table>\n",
       "</div>"
      ],
      "text/plain": [
       "   nr_zona  prop_votos_bolsonaro  prop_abstencao  prop_mulheres  \\\n",
       "0        1              0.344759        0.264560       0.521366   \n",
       "1        2              0.419487        0.231279       0.544536   \n",
       "2        3              0.438388        0.280719       0.501387   \n",
       "3        4              0.548114        0.229508       0.536943   \n",
       "4        5              0.505287        0.248965       0.546311   \n",
       "\n",
       "   prop_superior_completo  prop_sem_fundametal  prop_mais_60_anos  \\\n",
       "0                0.322225             0.154731           0.285246   \n",
       "1                0.432805             0.087887           0.324000   \n",
       "2                0.153666             0.229940           0.264833   \n",
       "3                0.257316             0.151490           0.302248   \n",
       "4                0.524865             0.057162           0.364926   \n",
       "\n",
       "   prop_menos_25_anos  \n",
       "0            0.071691  \n",
       "1            0.076005  \n",
       "2            0.102532  \n",
       "3            0.095024  \n",
       "4            0.059899  "
      ]
     },
     "execution_count": 18,
     "metadata": {},
     "output_type": "execute_result"
    }
   ],
   "source": [
    "df_final.head()"
   ]
  },
  {
   "cell_type": "markdown",
   "id": "fe754de4-7532-434d-b80d-c11fc32c26f3",
   "metadata": {},
   "source": [
    "Ver correlações nas exogenas"
   ]
  },
  {
   "cell_type": "code",
   "execution_count": 19,
   "id": "5563b32d-2370-4851-b3c8-cffac0b46940",
   "metadata": {},
   "outputs": [],
   "source": [
    "exogs = [\n",
    "    'prop_abstencao',\n",
    "         'prop_mulheres', \t\n",
    "         'prop_superior_completo', \t\n",
    "         'prop_sem_fundametal', \t\n",
    "         'prop_mais_60_anos', \t\n",
    "         'prop_menos_25_anos'\n",
    "        ]"
   ]
  },
  {
   "cell_type": "code",
   "execution_count": 20,
   "id": "732d0e9e-de68-4130-82f4-2e7f3365eec1",
   "metadata": {},
   "outputs": [
    {
     "data": {
      "image/png": "[encoded data removed]",
      "text/plain": [
       "<Figure size 792x648 with 2 Axes>"
      ]
     },
     "metadata": {},
     "output_type": "display_data"
    }
   ],
   "source": [
    "corr = df_final[exogs].corr()\n",
    "\n",
    "\n",
    "mask=np.triu(np.ones_like(corr, dtype=bool))\n",
    "\n",
    "fig, ax = plt.subplots(figsize=(11, 9))\n",
    "cmap = sns.diverging_palette(230, 20, as_cmap=True)\n",
    "corr_plot = sns.heatmap(corr, mask=mask, cmap=cmap, vmax=.3, center=0,\n",
    "            square=True, linewidths=.5, cbar_kws={\"shrink\": .5})\n",
    "plt.title('Correlação - Variáveis Exógenas', size=25,fontweight=\"bold\")\n",
    "corr_plot.tick_params(labelsize=15)\n",
    "plt.xticks(rotation = 45) \n",
    "fig.savefig('matriz_correlacao_exogs.png', bbox_inches='tight')"
   ]
  },
  {
   "cell_type": "code",
   "execution_count": 21,
   "id": "2834cb36-2ea1-42c0-aa9f-0c81c5f906b4",
   "metadata": {},
   "outputs": [
    {
     "data": {
      "text/plain": [
       "Index(['nr_zona', 'prop_votos_bolsonaro', 'prop_abstencao', 'prop_mulheres',\n",
       "       'prop_superior_completo', 'prop_sem_fundametal', 'prop_mais_60_anos',\n",
       "       'prop_menos_25_anos'],\n",
       "      dtype='object')"
      ]
     },
     "execution_count": 21,
     "metadata": {},
     "output_type": "execute_result"
    }
   ],
   "source": [
    "df_final.keys()"
   ]
  },
  {
   "cell_type": "code",
   "execution_count": 22,
   "id": "1cc162c6-a55d-455d-8e9d-dcf5bfe7982d",
   "metadata": {},
   "outputs": [],
   "source": [
    "df_final = df_final.drop(['prop_sem_fundametal', 'prop_menos_25_anos'], axis=1)"
   ]
  },
  {
   "cell_type": "code",
   "execution_count": 23,
   "id": "5c7562da-a980-4058-9ba1-740cb3f73844",
   "metadata": {},
   "outputs": [],
   "source": [
    "exogs.remove('prop_sem_fundametal')\n",
    "exogs.remove('prop_menos_25_anos')"
   ]
  },
  {
   "cell_type": "code",
   "execution_count": 24,
   "id": "7b949e3f-e83c-47bb-a4c2-5e196dd0ab7b",
   "metadata": {},
   "outputs": [
    {
     "data": {
      "image/png": "[encoded data removed]",
      "text/plain": [
       "<Figure size 792x648 with 2 Axes>"
      ]
     },
     "metadata": {},
     "output_type": "display_data"
    }
   ],
   "source": [
    "corr = df_final[exogs].corr()\n",
    "\n",
    "\n",
    "mask=np.triu(np.ones_like(corr, dtype=bool))\n",
    "\n",
    "fig, ax = plt.subplots(figsize=(11, 9))\n",
    "cmap = sns.diverging_palette(230, 20, as_cmap=True)\n",
    "corr_plot = sns.heatmap(corr, mask=mask, cmap=cmap, vmax=.3, center=0,\n",
    "            square=True, linewidths=.5, cbar_kws={\"shrink\": .5})\n",
    "plt.title('Correlação - Variáveis Exógenas', size=25,fontweight=\"bold\")\n",
    "corr_plot.tick_params(labelsize=15)\n",
    "plt.xticks(rotation = 45) \n",
    "fig.savefig('matriz_correlacao_exogs_2.png', bbox_inches='tight')"
   ]
  },
  {
   "cell_type": "code",
   "execution_count": 25,
   "id": "fc787845-5c39-4615-ac52-ad2908ba2101",
   "metadata": {},
   "outputs": [],
   "source": [
    "fpath_dados_final = solve_path('dados_modelagem_final.csv', folder_modelagem)"
   ]
  },
  {
   "cell_type": "code",
   "execution_count": 26,
   "id": "230791d7-3a0c-4ed7-985e-574b343c0f98",
   "metadata": {},
   "outputs": [],
   "source": [
    "df_final.to_csv(fpath_dados_final, index=False, sep=';')"
   ]
  },
  {
   "cell_type": "code",
   "execution_count": 27,
   "id": "22ba0ca8-92df-46c1-bcef-2c7af07d37bf",
   "metadata": {},
   "outputs": [
    {
     "data": {
      "text/html": [
       "<div>\n",
       "<style scoped>\n",
       "    .dataframe tbody tr th:only-of-type {\n",
       "        vertical-align: middle;\n",
       "    }\n",
       "\n",
       "    .dataframe tbody tr th {\n",
       "        vertical-align: top;\n",
       "    }\n",
       "\n",
       "    .dataframe thead th {\n",
       "        text-align: right;\n",
       "    }\n",
       "</style>\n",
       "<table border=\"1\" class=\"dataframe\">\n",
       "  <thead>\n",
       "    <tr style=\"text-align: right;\">\n",
       "      <th></th>\n",
       "      <th>nr_zona</th>\n",
       "      <th>prop_votos_bolsonaro</th>\n",
       "      <th>prop_abstencao</th>\n",
       "      <th>prop_mulheres</th>\n",
       "      <th>prop_superior_completo</th>\n",
       "      <th>prop_mais_60_anos</th>\n",
       "    </tr>\n",
       "  </thead>\n",
       "  <tbody>\n",
       "    <tr>\n",
       "      <th>0</th>\n",
       "      <td>1</td>\n",
       "      <td>0.344759</td>\n",
       "      <td>0.264560</td>\n",
       "      <td>0.521366</td>\n",
       "      <td>0.322225</td>\n",
       "      <td>0.285246</td>\n",
       "    </tr>\n",
       "    <tr>\n",
       "      <th>1</th>\n",
       "      <td>2</td>\n",
       "      <td>0.419487</td>\n",
       "      <td>0.231279</td>\n",
       "      <td>0.544536</td>\n",
       "      <td>0.432805</td>\n",
       "      <td>0.324000</td>\n",
       "    </tr>\n",
       "    <tr>\n",
       "      <th>2</th>\n",
       "      <td>3</td>\n",
       "      <td>0.438388</td>\n",
       "      <td>0.280719</td>\n",
       "      <td>0.501387</td>\n",
       "      <td>0.153666</td>\n",
       "      <td>0.264833</td>\n",
       "    </tr>\n",
       "    <tr>\n",
       "      <th>3</th>\n",
       "      <td>4</td>\n",
       "      <td>0.548114</td>\n",
       "      <td>0.229508</td>\n",
       "      <td>0.536943</td>\n",
       "      <td>0.257316</td>\n",
       "      <td>0.302248</td>\n",
       "    </tr>\n",
       "    <tr>\n",
       "      <th>4</th>\n",
       "      <td>5</td>\n",
       "      <td>0.505287</td>\n",
       "      <td>0.248965</td>\n",
       "      <td>0.546311</td>\n",
       "      <td>0.524865</td>\n",
       "      <td>0.364926</td>\n",
       "    </tr>\n",
       "  </tbody>\n",
       "</table>\n",
       "</div>"
      ],
      "text/plain": [
       "   nr_zona  prop_votos_bolsonaro  prop_abstencao  prop_mulheres  \\\n",
       "0        1              0.344759        0.264560       0.521366   \n",
       "1        2              0.419487        0.231279       0.544536   \n",
       "2        3              0.438388        0.280719       0.501387   \n",
       "3        4              0.548114        0.229508       0.536943   \n",
       "4        5              0.505287        0.248965       0.546311   \n",
       "\n",
       "   prop_superior_completo  prop_mais_60_anos  \n",
       "0                0.322225           0.285246  \n",
       "1                0.432805           0.324000  \n",
       "2                0.153666           0.264833  \n",
       "3                0.257316           0.302248  \n",
       "4                0.524865           0.364926  "
      ]
     },
     "execution_count": 27,
     "metadata": {},
     "output_type": "execute_result"
    }
   ],
   "source": [
    "df_final.head()"
   ]
  },
  {
   "cell_type": "code",
   "execution_count": null,
   "id": "be64a7e8-ccf6-4cb0-b10e-58cf3a37bb0e",
   "metadata": {},
   "outputs": [],
   "source": []
  },
  {
   "cell_type": "code",
   "execution_count": 28,
   "id": "a2351251-3fee-49d2-8613-688b2973e2b2",
   "metadata": {},
   "outputs": [],
   "source": [
    "import statsmodels.api as sm"
   ]
  },
  {
   "cell_type": "code",
   "execution_count": 29,
   "id": "95bf34a2-958e-4fa4-bb96-1b4ce4e9e1db",
   "metadata": {},
   "outputs": [],
   "source": [
    "zonas = df_final['nr_zona']"
   ]
  },
  {
   "cell_type": "code",
   "execution_count": 30,
   "id": "82ac3a49-e174-474b-8458-6a83936c298d",
   "metadata": {},
   "outputs": [],
   "source": [
    "y = df_final['prop_votos_bolsonaro']\n",
    "X = df_final.drop(['nr_zona', 'prop_votos_bolsonaro'], axis=1)"
   ]
  },
  {
   "cell_type": "code",
   "execution_count": 31,
   "id": "3036abf7-4e29-4bc8-8fe4-f3f33d7ec0e3",
   "metadata": {},
   "outputs": [],
   "source": [
    "X['const']=1"
   ]
  },
  {
   "cell_type": "code",
   "execution_count": 32,
   "id": "e228e763-d504-4c0b-8c19-ad520f58bde0",
   "metadata": {},
   "outputs": [],
   "source": [
    "model = sm.OLS(y,X)"
   ]
  },
  {
   "cell_type": "code",
   "execution_count": 33,
   "id": "6826f4f7-d6ac-4bba-8b0b-7a258333014d",
   "metadata": {},
   "outputs": [],
   "source": [
    "results = model.fit()"
   ]
  },
  {
   "cell_type": "code",
   "execution_count": 34,
   "id": "8c766a9a-0c52-44fc-a341-995a68a2c96c",
   "metadata": {},
   "outputs": [
    {
     "name": "stdout",
     "output_type": "stream",
     "text": [
      "                             OLS Regression Results                             \n",
      "================================================================================\n",
      "Dep. Variable:     prop_votos_bolsonaro   R-squared:                       0.736\n",
      "Model:                              OLS   Adj. R-squared:                  0.717\n",
      "Method:                   Least Squares   F-statistic:                     37.02\n",
      "Date:                  Tue, 29 Nov 2022   Prob (F-statistic):           9.26e-15\n",
      "Time:                          21:16:12   Log-Likelihood:                 115.73\n",
      "No. Observations:                    58   AIC:                            -221.5\n",
      "Df Residuals:                        53   BIC:                            -211.1\n",
      "Df Model:                             4                                         \n",
      "Covariance Type:              nonrobust                                         \n",
      "==========================================================================================\n",
      "                             coef    std err          t      P>|t|      [0.025      0.975]\n",
      "------------------------------------------------------------------------------------------\n",
      "prop_abstencao            -1.2130      0.452     -2.681      0.010      -2.120      -0.306\n",
      "prop_mulheres             -0.4024      0.773     -0.521      0.605      -1.952       1.147\n",
      "prop_superior_completo    -0.3926      0.080     -4.890      0.000      -0.554      -0.232\n",
      "prop_mais_60_anos          1.8325      0.183     10.030      0.000       1.466       2.199\n",
      "const                      0.5507      0.473      1.164      0.249      -0.398       1.499\n",
      "==============================================================================\n",
      "Omnibus:                        1.407   Durbin-Watson:                   1.785\n",
      "Prob(Omnibus):                  0.495   Jarque-Bera (JB):                0.821\n",
      "Skew:                          -0.269   Prob(JB):                        0.663\n",
      "Kurtosis:                       3.224   Cond. No.                         253.\n",
      "==============================================================================\n",
      "\n",
      "Notes:\n",
      "[1] Standard Errors assume that the covariance matrix of the errors is correctly specified.\n"
     ]
    }
   ],
   "source": [
    "print(results.summary())"
   ]
  },
  {
   "cell_type": "code",
   "execution_count": 35,
   "id": "b3ad4905-b0f1-45d5-bbc6-f0630d2203e0",
   "metadata": {},
   "outputs": [],
   "source": [
    "from sklearn.preprocessing import StandardScaler"
   ]
  },
  {
   "cell_type": "code",
   "execution_count": 36,
   "id": "7568a8bd-1a5d-4f1a-858c-881c4b6b9f50",
   "metadata": {},
   "outputs": [],
   "source": [
    "scaler = StandardScaler()"
   ]
  },
  {
   "cell_type": "code",
   "execution_count": 37,
   "id": "319fb9e0-7703-4b5c-86a7-2f7b9cb51555",
   "metadata": {},
   "outputs": [],
   "source": [
    "cols = df_final.columns"
   ]
  },
  {
   "cell_type": "code",
   "execution_count": 38,
   "id": "cf7d5716-e2d0-4c47-b82c-db67c1e60dd8",
   "metadata": {},
   "outputs": [],
   "source": [
    "df_scaled = scaler.fit_transform(df_final)"
   ]
  },
  {
   "cell_type": "code",
   "execution_count": 39,
   "id": "23b4c4b5-abe3-4aee-8a04-f527360b8886",
   "metadata": {},
   "outputs": [],
   "source": [
    "df_scaled = pd.DataFrame(df_scaled, columns=cols)"
   ]
  },
  {
   "cell_type": "code",
   "execution_count": 40,
   "id": "ef03d841-0be6-4016-ac56-b1a7e436982c",
   "metadata": {},
   "outputs": [],
   "source": [
    "y = df_scaled['prop_votos_bolsonaro']\n",
    "X = df_scaled.drop(['nr_zona', 'prop_votos_bolsonaro'], axis=1)"
   ]
  },
  {
   "cell_type": "code",
   "execution_count": 41,
   "id": "00cbcca2-da07-4960-a89e-8e522dca755e",
   "metadata": {},
   "outputs": [],
   "source": [
    "X['const']=1"
   ]
  },
  {
   "cell_type": "code",
   "execution_count": 42,
   "id": "559bcdfb-a6e4-45b4-9cb6-c9c23dbbc918",
   "metadata": {},
   "outputs": [],
   "source": [
    "model2 = sm.OLS(y,X)"
   ]
  },
  {
   "cell_type": "code",
   "execution_count": 43,
   "id": "b231402a-cf4c-4f0f-aa63-72f73e82b859",
   "metadata": {},
   "outputs": [],
   "source": [
    "results2 = model2.fit()"
   ]
  },
  {
   "cell_type": "code",
   "execution_count": 44,
   "id": "19736e18-aed2-4e7c-bfe1-db4efc4dfc1d",
   "metadata": {},
   "outputs": [
    {
     "name": "stdout",
     "output_type": "stream",
     "text": [
      "                             OLS Regression Results                             \n",
      "================================================================================\n",
      "Dep. Variable:     prop_votos_bolsonaro   R-squared:                       0.736\n",
      "Model:                              OLS   Adj. R-squared:                  0.717\n",
      "Method:                   Least Squares   F-statistic:                     37.02\n",
      "Date:                  Tue, 29 Nov 2022   Prob (F-statistic):           9.26e-15\n",
      "Time:                          21:16:13   Log-Likelihood:                -43.631\n",
      "No. Observations:                    58   AIC:                             97.26\n",
      "Df Residuals:                        53   BIC:                             107.6\n",
      "Df Model:                             4                                         \n",
      "Covariance Type:              nonrobust                                         \n",
      "==========================================================================================\n",
      "                             coef    std err          t      P>|t|      [0.025      0.975]\n",
      "------------------------------------------------------------------------------------------\n",
      "prop_abstencao            -0.3219      0.120     -2.681      0.010      -0.563      -0.081\n",
      "prop_mulheres             -0.0482      0.093     -0.521      0.605      -0.234       0.137\n",
      "prop_superior_completo    -0.7657      0.157     -4.890      0.000      -1.080      -0.452\n",
      "prop_mais_60_anos          1.6321      0.163     10.030      0.000       1.306       1.959\n",
      "const                  -2.061e-15      0.071  -2.92e-14      1.000      -0.141       0.141\n",
      "==============================================================================\n",
      "Omnibus:                        1.407   Durbin-Watson:                   1.785\n",
      "Prob(Omnibus):                  0.495   Jarque-Bera (JB):                0.821\n",
      "Skew:                          -0.269   Prob(JB):                        0.663\n",
      "Kurtosis:                       3.224   Cond. No.                         4.67\n",
      "==============================================================================\n",
      "\n",
      "Notes:\n",
      "[1] Standard Errors assume that the covariance matrix of the errors is correctly specified.\n"
     ]
    }
   ],
   "source": [
    "print(results2.summary())"
   ]
  },
  {
   "cell_type": "code",
   "execution_count": null,
   "id": "af8f4fde-a6f9-4e67-a37d-f3b4c112dba8",
   "metadata": {},
   "outputs": [],
   "source": []
  }
 ],
 "metadata": {
  "kernelspec": {
   "display_name": "Python 3",
   "language": "python",
   "name": "python3"
  },
  "language_info": {
   "codemirror_mode": {
    "name": "ipython",
    "version": 3
   },
   "file_extension": ".py",
   "mimetype": "text/x-python",
   "name": "python",
   "nbconvert_exporter": "python",
   "pygments_lexer": "ipython3",
   "version": "3.8.8"
  }
 },
 "nbformat": 4,
 "nbformat_minor": 5
}
