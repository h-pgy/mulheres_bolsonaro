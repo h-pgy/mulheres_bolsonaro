{
 "cells": [
  {
   "cell_type": "code",
   "execution_count": 1,
   "id": "c9bf0aff-acc1-42fb-8ccf-8aa596e86733",
   "metadata": {},
   "outputs": [],
   "source": [
    "from core.load_data import DownloadDadosTse\n",
    "from core.utils import solve_path\n",
    "import pandas as pd"
   ]
  },
  {
   "cell_type": "code",
   "execution_count": 2,
   "id": "8716a080-2a34-45e9-bbff-84e751ed79bc",
   "metadata": {},
   "outputs": [],
   "source": [
    "tse = DownloadDadosTse()"
   ]
  },
  {
   "cell_type": "code",
   "execution_count": 3,
   "id": "c2559f7c-fb30-493e-b3b6-19bae225ed65",
   "metadata": {},
   "outputs": [],
   "source": [
    "boletins = tse('boletins_urna_2t_sp', sep=';', encoding='latin-1')"
   ]
  },
  {
   "cell_type": "code",
   "execution_count": 4,
   "id": "66d8bda6-fa48-4a7f-a9f9-52a6d0d23a56",
   "metadata": {},
   "outputs": [
    {
     "data": {
      "text/html": [
       "<div>\n",
       "<style scoped>\n",
       "    .dataframe tbody tr th:only-of-type {\n",
       "        vertical-align: middle;\n",
       "    }\n",
       "\n",
       "    .dataframe tbody tr th {\n",
       "        vertical-align: top;\n",
       "    }\n",
       "\n",
       "    .dataframe thead th {\n",
       "        text-align: right;\n",
       "    }\n",
       "</style>\n",
       "<table border=\"1\" class=\"dataframe\">\n",
       "  <thead>\n",
       "    <tr style=\"text-align: right;\">\n",
       "      <th></th>\n",
       "      <th>DT_GERACAO</th>\n",
       "      <th>HH_GERACAO</th>\n",
       "      <th>ANO_ELEICAO</th>\n",
       "      <th>CD_TIPO_ELEICAO</th>\n",
       "      <th>NM_TIPO_ELEICAO</th>\n",
       "      <th>CD_PLEITO</th>\n",
       "      <th>DT_PLEITO</th>\n",
       "      <th>NR_TURNO</th>\n",
       "      <th>CD_ELEICAO</th>\n",
       "      <th>DS_ELEICAO</th>\n",
       "      <th>...</th>\n",
       "      <th>CD_FLASHCARD_URNA_EFETIVADA</th>\n",
       "      <th>DT_CARGA_URNA_EFETIVADA</th>\n",
       "      <th>DS_CARGO_PERGUNTA_SECAO</th>\n",
       "      <th>DS_AGREGADAS</th>\n",
       "      <th>DT_ABERTURA</th>\n",
       "      <th>DT_ENCERRAMENTO</th>\n",
       "      <th>QT_ELEITORES_BIOMETRIA_NH</th>\n",
       "      <th>DT_EMISSAO_BU</th>\n",
       "      <th>NR_JUNTA_APURADORA</th>\n",
       "      <th>NR_TURMA_APURADORA</th>\n",
       "    </tr>\n",
       "  </thead>\n",
       "  <tbody>\n",
       "    <tr>\n",
       "      <th>231254</th>\n",
       "      <td>31/10/2022</td>\n",
       "      <td>15:52:42</td>\n",
       "      <td>2022</td>\n",
       "      <td>0</td>\n",
       "      <td>Eleição Ordinária</td>\n",
       "      <td>407</td>\n",
       "      <td>30/10/2022</td>\n",
       "      <td>2</td>\n",
       "      <td>545</td>\n",
       "      <td>Eleição Geral Federal 2022</td>\n",
       "      <td>...</td>\n",
       "      <td>B037D262</td>\n",
       "      <td>22/09/2022 15:28:00</td>\n",
       "      <td>1 - 54</td>\n",
       "      <td>#NULO#</td>\n",
       "      <td>30/10/2022 08:00:01</td>\n",
       "      <td>30/10/2022 17:04:04</td>\n",
       "      <td>3</td>\n",
       "      <td>30/10/2022 17:05:50</td>\n",
       "      <td>-1</td>\n",
       "      <td>-1</td>\n",
       "    </tr>\n",
       "    <tr>\n",
       "      <th>388049</th>\n",
       "      <td>31/10/2022</td>\n",
       "      <td>15:52:42</td>\n",
       "      <td>2022</td>\n",
       "      <td>0</td>\n",
       "      <td>Eleição Ordinária</td>\n",
       "      <td>407</td>\n",
       "      <td>30/10/2022</td>\n",
       "      <td>2</td>\n",
       "      <td>545</td>\n",
       "      <td>Eleição Geral Federal 2022</td>\n",
       "      <td>...</td>\n",
       "      <td>027B3DEB</td>\n",
       "      <td>24/09/2022 09:28:00</td>\n",
       "      <td>1 - 268</td>\n",
       "      <td>#NULO#</td>\n",
       "      <td>30/10/2022 08:00:01</td>\n",
       "      <td>30/10/2022 17:00:04</td>\n",
       "      <td>7</td>\n",
       "      <td>30/10/2022 17:01:44</td>\n",
       "      <td>-1</td>\n",
       "      <td>-1</td>\n",
       "    </tr>\n",
       "    <tr>\n",
       "      <th>352619</th>\n",
       "      <td>31/10/2022</td>\n",
       "      <td>15:52:42</td>\n",
       "      <td>2022</td>\n",
       "      <td>0</td>\n",
       "      <td>Eleição Ordinária</td>\n",
       "      <td>407</td>\n",
       "      <td>30/10/2022</td>\n",
       "      <td>2</td>\n",
       "      <td>545</td>\n",
       "      <td>Eleição Geral Federal 2022</td>\n",
       "      <td>...</td>\n",
       "      <td>0180C700</td>\n",
       "      <td>23/09/2022 15:25:00</td>\n",
       "      <td>1 - 97</td>\n",
       "      <td>#NULO#</td>\n",
       "      <td>30/10/2022 08:00:01</td>\n",
       "      <td>30/10/2022 17:01:49</td>\n",
       "      <td>15</td>\n",
       "      <td>30/10/2022 17:04:32</td>\n",
       "      <td>-1</td>\n",
       "      <td>-1</td>\n",
       "    </tr>\n",
       "    <tr>\n",
       "      <th>207144</th>\n",
       "      <td>31/10/2022</td>\n",
       "      <td>15:52:42</td>\n",
       "      <td>2022</td>\n",
       "      <td>0</td>\n",
       "      <td>Eleição Ordinária</td>\n",
       "      <td>407</td>\n",
       "      <td>30/10/2022</td>\n",
       "      <td>2</td>\n",
       "      <td>545</td>\n",
       "      <td>Eleição Geral Federal 2022</td>\n",
       "      <td>...</td>\n",
       "      <td>FAF39750</td>\n",
       "      <td>22/09/2022 11:52:00</td>\n",
       "      <td>1 - 42</td>\n",
       "      <td>#NULO#</td>\n",
       "      <td>30/10/2022 08:00:01</td>\n",
       "      <td>30/10/2022 17:01:41</td>\n",
       "      <td>19</td>\n",
       "      <td>30/10/2022 17:04:36</td>\n",
       "      <td>-1</td>\n",
       "      <td>-1</td>\n",
       "    </tr>\n",
       "    <tr>\n",
       "      <th>43254</th>\n",
       "      <td>31/10/2022</td>\n",
       "      <td>15:52:42</td>\n",
       "      <td>2022</td>\n",
       "      <td>0</td>\n",
       "      <td>Eleição Ordinária</td>\n",
       "      <td>407</td>\n",
       "      <td>30/10/2022</td>\n",
       "      <td>2</td>\n",
       "      <td>547</td>\n",
       "      <td>Eleições Gerais Estaduais 2022</td>\n",
       "      <td>...</td>\n",
       "      <td>1D0A8417</td>\n",
       "      <td>21/09/2022 13:50:00</td>\n",
       "      <td>3 - 300</td>\n",
       "      <td>#NULO#</td>\n",
       "      <td>30/10/2022 08:00:01</td>\n",
       "      <td>30/10/2022 17:03:01</td>\n",
       "      <td>11</td>\n",
       "      <td>30/10/2022 17:03:15</td>\n",
       "      <td>-1</td>\n",
       "      <td>-1</td>\n",
       "    </tr>\n",
       "  </tbody>\n",
       "</table>\n",
       "<p>5 rows × 45 columns</p>\n",
       "</div>"
      ],
      "text/plain": [
       "        DT_GERACAO HH_GERACAO  ANO_ELEICAO  CD_TIPO_ELEICAO  \\\n",
       "231254  31/10/2022   15:52:42         2022                0   \n",
       "388049  31/10/2022   15:52:42         2022                0   \n",
       "352619  31/10/2022   15:52:42         2022                0   \n",
       "207144  31/10/2022   15:52:42         2022                0   \n",
       "43254   31/10/2022   15:52:42         2022                0   \n",
       "\n",
       "          NM_TIPO_ELEICAO  CD_PLEITO   DT_PLEITO  NR_TURNO  CD_ELEICAO  \\\n",
       "231254  Eleição Ordinária        407  30/10/2022         2         545   \n",
       "388049  Eleição Ordinária        407  30/10/2022         2         545   \n",
       "352619  Eleição Ordinária        407  30/10/2022         2         545   \n",
       "207144  Eleição Ordinária        407  30/10/2022         2         545   \n",
       "43254   Eleição Ordinária        407  30/10/2022         2         547   \n",
       "\n",
       "                            DS_ELEICAO  ... CD_FLASHCARD_URNA_EFETIVADA  \\\n",
       "231254      Eleição Geral Federal 2022  ...                    B037D262   \n",
       "388049      Eleição Geral Federal 2022  ...                    027B3DEB   \n",
       "352619      Eleição Geral Federal 2022  ...                    0180C700   \n",
       "207144      Eleição Geral Federal 2022  ...                    FAF39750   \n",
       "43254   Eleições Gerais Estaduais 2022  ...                    1D0A8417   \n",
       "\n",
       "        DT_CARGA_URNA_EFETIVADA DS_CARGO_PERGUNTA_SECAO  DS_AGREGADAS  \\\n",
       "231254      22/09/2022 15:28:00                  1 - 54        #NULO#   \n",
       "388049      24/09/2022 09:28:00                 1 - 268        #NULO#   \n",
       "352619      23/09/2022 15:25:00                  1 - 97        #NULO#   \n",
       "207144      22/09/2022 11:52:00                  1 - 42        #NULO#   \n",
       "43254       21/09/2022 13:50:00                 3 - 300        #NULO#   \n",
       "\n",
       "                DT_ABERTURA      DT_ENCERRAMENTO  QT_ELEITORES_BIOMETRIA_NH  \\\n",
       "231254  30/10/2022 08:00:01  30/10/2022 17:04:04                          3   \n",
       "388049  30/10/2022 08:00:01  30/10/2022 17:00:04                          7   \n",
       "352619  30/10/2022 08:00:01  30/10/2022 17:01:49                         15   \n",
       "207144  30/10/2022 08:00:01  30/10/2022 17:01:41                         19   \n",
       "43254   30/10/2022 08:00:01  30/10/2022 17:03:01                         11   \n",
       "\n",
       "              DT_EMISSAO_BU  NR_JUNTA_APURADORA NR_TURMA_APURADORA  \n",
       "231254  30/10/2022 17:05:50                  -1                 -1  \n",
       "388049  30/10/2022 17:01:44                  -1                 -1  \n",
       "352619  30/10/2022 17:04:32                  -1                 -1  \n",
       "207144  30/10/2022 17:04:36                  -1                 -1  \n",
       "43254   30/10/2022 17:03:15                  -1                 -1  \n",
       "\n",
       "[5 rows x 45 columns]"
      ]
     },
     "execution_count": 4,
     "metadata": {},
     "output_type": "execute_result"
    }
   ],
   "source": [
    "boletins.sample(5)"
   ]
  },
  {
   "cell_type": "markdown",
   "id": "c05b0a13-dab7-44d3-8c02-40800b2b1d66",
   "metadata": {},
   "source": [
    "Filtrar apenas para a cidade de São Paulo"
   ]
  },
  {
   "cell_type": "code",
   "execution_count": 5,
   "id": "e29114b5-e8af-4031-abf5-d52d3341e21b",
   "metadata": {},
   "outputs": [],
   "source": [
    "#filtrar por SP\n",
    "boletins = boletins[boletins['CD_MUNICIPIO']==71072]"
   ]
  },
  {
   "cell_type": "code",
   "execution_count": 6,
   "id": "077429cb-463c-42dd-b402-85ecce435259",
   "metadata": {},
   "outputs": [
    {
     "data": {
      "text/plain": [
       "array(['SÃO PAULO'], dtype=object)"
      ]
     },
     "execution_count": 6,
     "metadata": {},
     "output_type": "execute_result"
    }
   ],
   "source": [
    "boletins['NM_MUNICIPIO'].unique()"
   ]
  },
  {
   "cell_type": "markdown",
   "id": "27052826-2600-4b3b-9255-02f659842ec7",
   "metadata": {},
   "source": [
    "Verificar se estamos apenas no 2º Turno"
   ]
  },
  {
   "cell_type": "code",
   "execution_count": 7,
   "id": "2e1b45ea-49f1-4b9c-a71b-6a4accd552b2",
   "metadata": {},
   "outputs": [
    {
     "data": {
      "text/plain": [
       "array(['30/10/2022'], dtype=object)"
      ]
     },
     "execution_count": 7,
     "metadata": {},
     "output_type": "execute_result"
    }
   ],
   "source": [
    "boletins['DT_PLEITO'].unique()"
   ]
  },
  {
   "cell_type": "code",
   "execution_count": 8,
   "id": "5d3aebb0-56a8-41ee-bbc1-698a5cb749da",
   "metadata": {},
   "outputs": [
    {
     "data": {
      "text/plain": [
       "array([2022])"
      ]
     },
     "execution_count": 8,
     "metadata": {},
     "output_type": "execute_result"
    }
   ],
   "source": [
    "boletins['ANO_ELEICAO'].unique()"
   ]
  },
  {
   "cell_type": "code",
   "execution_count": 9,
   "id": "260f817c-520b-46cc-9b64-b473b787c948",
   "metadata": {},
   "outputs": [
    {
     "data": {
      "text/plain": [
       "array([2])"
      ]
     },
     "execution_count": 9,
     "metadata": {},
     "output_type": "execute_result"
    }
   ],
   "source": [
    "boletins['NR_TURNO'].unique()"
   ]
  },
  {
   "cell_type": "markdown",
   "id": "2321c787-438f-4e63-8f77-29906fb2f2f3",
   "metadata": {},
   "source": [
    "Filtrar resultados apenas para eleição presidencial!"
   ]
  },
  {
   "cell_type": "code",
   "execution_count": 10,
   "id": "2c4b6e39-119b-4ce5-9c86-ba8112fc830b",
   "metadata": {},
   "outputs": [
    {
     "data": {
      "text/plain": [
       "array(['Eleição Geral Federal 2022', 'Eleições Gerais Estaduais 2022'],\n",
       "      dtype=object)"
      ]
     },
     "execution_count": 10,
     "metadata": {},
     "output_type": "execute_result"
    }
   ],
   "source": [
    "boletins['DS_ELEICAO'].unique()"
   ]
  },
  {
   "cell_type": "code",
   "execution_count": 11,
   "id": "dd2aee14-f5a9-4152-9da3-4646300c1c2e",
   "metadata": {},
   "outputs": [],
   "source": [
    "boletins = boletins[boletins['DS_ELEICAO']=='Eleição Geral Federal 2022']"
   ]
  },
  {
   "cell_type": "markdown",
   "id": "f426907c-e775-445c-abf2-5ae41cc99054",
   "metadata": {},
   "source": [
    "Apenas urnas apuradas"
   ]
  },
  {
   "cell_type": "code",
   "execution_count": 12,
   "id": "fc0f1dc4-c47f-4825-99f0-e613c733ec04",
   "metadata": {},
   "outputs": [
    {
     "data": {
      "text/plain": [
       "array(['APURADA'], dtype=object)"
      ]
     },
     "execution_count": 12,
     "metadata": {},
     "output_type": "execute_result"
    }
   ],
   "source": [
    "boletins['DS_TIPO_URNA'].unique()"
   ]
  },
  {
   "cell_type": "code",
   "execution_count": 13,
   "id": "c810f3fd-d134-48b0-8296-24ab92161211",
   "metadata": {},
   "outputs": [
    {
     "data": {
      "text/html": [
       "<div>\n",
       "<style scoped>\n",
       "    .dataframe tbody tr th:only-of-type {\n",
       "        vertical-align: middle;\n",
       "    }\n",
       "\n",
       "    .dataframe tbody tr th {\n",
       "        vertical-align: top;\n",
       "    }\n",
       "\n",
       "    .dataframe thead th {\n",
       "        text-align: right;\n",
       "    }\n",
       "</style>\n",
       "<table border=\"1\" class=\"dataframe\">\n",
       "  <thead>\n",
       "    <tr style=\"text-align: right;\">\n",
       "      <th></th>\n",
       "      <th>DT_GERACAO</th>\n",
       "      <th>HH_GERACAO</th>\n",
       "      <th>ANO_ELEICAO</th>\n",
       "      <th>CD_TIPO_ELEICAO</th>\n",
       "      <th>NM_TIPO_ELEICAO</th>\n",
       "      <th>CD_PLEITO</th>\n",
       "      <th>DT_PLEITO</th>\n",
       "      <th>NR_TURNO</th>\n",
       "      <th>CD_ELEICAO</th>\n",
       "      <th>DS_ELEICAO</th>\n",
       "      <th>...</th>\n",
       "      <th>CD_FLASHCARD_URNA_EFETIVADA</th>\n",
       "      <th>DT_CARGA_URNA_EFETIVADA</th>\n",
       "      <th>DS_CARGO_PERGUNTA_SECAO</th>\n",
       "      <th>DS_AGREGADAS</th>\n",
       "      <th>DT_ABERTURA</th>\n",
       "      <th>DT_ENCERRAMENTO</th>\n",
       "      <th>QT_ELEITORES_BIOMETRIA_NH</th>\n",
       "      <th>DT_EMISSAO_BU</th>\n",
       "      <th>NR_JUNTA_APURADORA</th>\n",
       "      <th>NR_TURMA_APURADORA</th>\n",
       "    </tr>\n",
       "  </thead>\n",
       "  <tbody>\n",
       "    <tr>\n",
       "      <th>0</th>\n",
       "      <td>31/10/2022</td>\n",
       "      <td>15:52:42</td>\n",
       "      <td>2022</td>\n",
       "      <td>0</td>\n",
       "      <td>Eleição Ordinária</td>\n",
       "      <td>407</td>\n",
       "      <td>30/10/2022</td>\n",
       "      <td>2</td>\n",
       "      <td>545</td>\n",
       "      <td>Eleição Geral Federal 2022</td>\n",
       "      <td>...</td>\n",
       "      <td>A836CFA2</td>\n",
       "      <td>22/09/2022 11:04:00</td>\n",
       "      <td>1 - 1</td>\n",
       "      <td>#NULO#</td>\n",
       "      <td>30/10/2022 08:00:01</td>\n",
       "      <td>30/10/2022 17:02:35</td>\n",
       "      <td>46</td>\n",
       "      <td>30/10/2022 17:04:05</td>\n",
       "      <td>-1</td>\n",
       "      <td>-1</td>\n",
       "    </tr>\n",
       "    <tr>\n",
       "      <th>1</th>\n",
       "      <td>31/10/2022</td>\n",
       "      <td>15:52:42</td>\n",
       "      <td>2022</td>\n",
       "      <td>0</td>\n",
       "      <td>Eleição Ordinária</td>\n",
       "      <td>407</td>\n",
       "      <td>30/10/2022</td>\n",
       "      <td>2</td>\n",
       "      <td>545</td>\n",
       "      <td>Eleição Geral Federal 2022</td>\n",
       "      <td>...</td>\n",
       "      <td>A836CFA2</td>\n",
       "      <td>22/09/2022 11:04:00</td>\n",
       "      <td>1 - 1</td>\n",
       "      <td>#NULO#</td>\n",
       "      <td>30/10/2022 08:00:01</td>\n",
       "      <td>30/10/2022 17:02:35</td>\n",
       "      <td>46</td>\n",
       "      <td>30/10/2022 17:04:05</td>\n",
       "      <td>-1</td>\n",
       "      <td>-1</td>\n",
       "    </tr>\n",
       "    <tr>\n",
       "      <th>2</th>\n",
       "      <td>31/10/2022</td>\n",
       "      <td>15:52:42</td>\n",
       "      <td>2022</td>\n",
       "      <td>0</td>\n",
       "      <td>Eleição Ordinária</td>\n",
       "      <td>407</td>\n",
       "      <td>30/10/2022</td>\n",
       "      <td>2</td>\n",
       "      <td>545</td>\n",
       "      <td>Eleição Geral Federal 2022</td>\n",
       "      <td>...</td>\n",
       "      <td>A836CFA2</td>\n",
       "      <td>22/09/2022 11:04:00</td>\n",
       "      <td>1 - 1</td>\n",
       "      <td>#NULO#</td>\n",
       "      <td>30/10/2022 08:00:01</td>\n",
       "      <td>30/10/2022 17:02:35</td>\n",
       "      <td>46</td>\n",
       "      <td>30/10/2022 17:04:05</td>\n",
       "      <td>-1</td>\n",
       "      <td>-1</td>\n",
       "    </tr>\n",
       "    <tr>\n",
       "      <th>3</th>\n",
       "      <td>31/10/2022</td>\n",
       "      <td>15:52:42</td>\n",
       "      <td>2022</td>\n",
       "      <td>0</td>\n",
       "      <td>Eleição Ordinária</td>\n",
       "      <td>407</td>\n",
       "      <td>30/10/2022</td>\n",
       "      <td>2</td>\n",
       "      <td>545</td>\n",
       "      <td>Eleição Geral Federal 2022</td>\n",
       "      <td>...</td>\n",
       "      <td>A836CFA2</td>\n",
       "      <td>22/09/2022 11:04:00</td>\n",
       "      <td>1 - 1</td>\n",
       "      <td>#NULO#</td>\n",
       "      <td>30/10/2022 08:00:01</td>\n",
       "      <td>30/10/2022 17:02:35</td>\n",
       "      <td>46</td>\n",
       "      <td>30/10/2022 17:04:05</td>\n",
       "      <td>-1</td>\n",
       "      <td>-1</td>\n",
       "    </tr>\n",
       "    <tr>\n",
       "      <th>8</th>\n",
       "      <td>31/10/2022</td>\n",
       "      <td>15:52:42</td>\n",
       "      <td>2022</td>\n",
       "      <td>0</td>\n",
       "      <td>Eleição Ordinária</td>\n",
       "      <td>407</td>\n",
       "      <td>30/10/2022</td>\n",
       "      <td>2</td>\n",
       "      <td>545</td>\n",
       "      <td>Eleição Geral Federal 2022</td>\n",
       "      <td>...</td>\n",
       "      <td>A836CFA2</td>\n",
       "      <td>22/09/2022 11:11:00</td>\n",
       "      <td>1 - 2</td>\n",
       "      <td>#NULO#</td>\n",
       "      <td>30/10/2022 08:00:01</td>\n",
       "      <td>30/10/2022 17:03:57</td>\n",
       "      <td>33</td>\n",
       "      <td>30/10/2022 17:04:50</td>\n",
       "      <td>-1</td>\n",
       "      <td>-1</td>\n",
       "    </tr>\n",
       "    <tr>\n",
       "      <th>...</th>\n",
       "      <td>...</td>\n",
       "      <td>...</td>\n",
       "      <td>...</td>\n",
       "      <td>...</td>\n",
       "      <td>...</td>\n",
       "      <td>...</td>\n",
       "      <td>...</td>\n",
       "      <td>...</td>\n",
       "      <td>...</td>\n",
       "      <td>...</td>\n",
       "      <td>...</td>\n",
       "      <td>...</td>\n",
       "      <td>...</td>\n",
       "      <td>...</td>\n",
       "      <td>...</td>\n",
       "      <td>...</td>\n",
       "      <td>...</td>\n",
       "      <td>...</td>\n",
       "      <td>...</td>\n",
       "      <td>...</td>\n",
       "      <td>...</td>\n",
       "    </tr>\n",
       "    <tr>\n",
       "      <th>800285</th>\n",
       "      <td>31/10/2022</td>\n",
       "      <td>15:52:42</td>\n",
       "      <td>2022</td>\n",
       "      <td>0</td>\n",
       "      <td>Eleição Ordinária</td>\n",
       "      <td>407</td>\n",
       "      <td>30/10/2022</td>\n",
       "      <td>2</td>\n",
       "      <td>545</td>\n",
       "      <td>Eleição Geral Federal 2022</td>\n",
       "      <td>...</td>\n",
       "      <td>1B7C2705</td>\n",
       "      <td>22/09/2022 11:34:00</td>\n",
       "      <td>1 - 405</td>\n",
       "      <td>#NULO#</td>\n",
       "      <td>30/10/2022 08:00:01</td>\n",
       "      <td>30/10/2022 17:01:47</td>\n",
       "      <td>2</td>\n",
       "      <td>30/10/2022 17:05:33</td>\n",
       "      <td>-1</td>\n",
       "      <td>-1</td>\n",
       "    </tr>\n",
       "    <tr>\n",
       "      <th>800290</th>\n",
       "      <td>31/10/2022</td>\n",
       "      <td>15:52:42</td>\n",
       "      <td>2022</td>\n",
       "      <td>0</td>\n",
       "      <td>Eleição Ordinária</td>\n",
       "      <td>407</td>\n",
       "      <td>30/10/2022</td>\n",
       "      <td>2</td>\n",
       "      <td>545</td>\n",
       "      <td>Eleição Geral Federal 2022</td>\n",
       "      <td>...</td>\n",
       "      <td>FB080C3F</td>\n",
       "      <td>25/09/2022 12:43:00</td>\n",
       "      <td>1 - 406</td>\n",
       "      <td>#NULO#</td>\n",
       "      <td>30/10/2022 08:00:01</td>\n",
       "      <td>30/10/2022 17:06:57</td>\n",
       "      <td>3</td>\n",
       "      <td>30/10/2022 17:08:53</td>\n",
       "      <td>-1</td>\n",
       "      <td>-1</td>\n",
       "    </tr>\n",
       "    <tr>\n",
       "      <th>800291</th>\n",
       "      <td>31/10/2022</td>\n",
       "      <td>15:52:42</td>\n",
       "      <td>2022</td>\n",
       "      <td>0</td>\n",
       "      <td>Eleição Ordinária</td>\n",
       "      <td>407</td>\n",
       "      <td>30/10/2022</td>\n",
       "      <td>2</td>\n",
       "      <td>545</td>\n",
       "      <td>Eleição Geral Federal 2022</td>\n",
       "      <td>...</td>\n",
       "      <td>FB080C3F</td>\n",
       "      <td>25/09/2022 12:43:00</td>\n",
       "      <td>1 - 406</td>\n",
       "      <td>#NULO#</td>\n",
       "      <td>30/10/2022 08:00:01</td>\n",
       "      <td>30/10/2022 17:06:57</td>\n",
       "      <td>3</td>\n",
       "      <td>30/10/2022 17:08:53</td>\n",
       "      <td>-1</td>\n",
       "      <td>-1</td>\n",
       "    </tr>\n",
       "    <tr>\n",
       "      <th>800292</th>\n",
       "      <td>31/10/2022</td>\n",
       "      <td>15:52:42</td>\n",
       "      <td>2022</td>\n",
       "      <td>0</td>\n",
       "      <td>Eleição Ordinária</td>\n",
       "      <td>407</td>\n",
       "      <td>30/10/2022</td>\n",
       "      <td>2</td>\n",
       "      <td>545</td>\n",
       "      <td>Eleição Geral Federal 2022</td>\n",
       "      <td>...</td>\n",
       "      <td>FB080C3F</td>\n",
       "      <td>25/09/2022 12:43:00</td>\n",
       "      <td>1 - 406</td>\n",
       "      <td>#NULO#</td>\n",
       "      <td>30/10/2022 08:00:01</td>\n",
       "      <td>30/10/2022 17:06:57</td>\n",
       "      <td>3</td>\n",
       "      <td>30/10/2022 17:08:53</td>\n",
       "      <td>-1</td>\n",
       "      <td>-1</td>\n",
       "    </tr>\n",
       "    <tr>\n",
       "      <th>800293</th>\n",
       "      <td>31/10/2022</td>\n",
       "      <td>15:52:42</td>\n",
       "      <td>2022</td>\n",
       "      <td>0</td>\n",
       "      <td>Eleição Ordinária</td>\n",
       "      <td>407</td>\n",
       "      <td>30/10/2022</td>\n",
       "      <td>2</td>\n",
       "      <td>545</td>\n",
       "      <td>Eleição Geral Federal 2022</td>\n",
       "      <td>...</td>\n",
       "      <td>FB080C3F</td>\n",
       "      <td>25/09/2022 12:43:00</td>\n",
       "      <td>1 - 406</td>\n",
       "      <td>#NULO#</td>\n",
       "      <td>30/10/2022 08:00:01</td>\n",
       "      <td>30/10/2022 17:06:57</td>\n",
       "      <td>3</td>\n",
       "      <td>30/10/2022 17:08:53</td>\n",
       "      <td>-1</td>\n",
       "      <td>-1</td>\n",
       "    </tr>\n",
       "  </tbody>\n",
       "</table>\n",
       "<p>105004 rows × 45 columns</p>\n",
       "</div>"
      ],
      "text/plain": [
       "        DT_GERACAO HH_GERACAO  ANO_ELEICAO  CD_TIPO_ELEICAO  \\\n",
       "0       31/10/2022   15:52:42         2022                0   \n",
       "1       31/10/2022   15:52:42         2022                0   \n",
       "2       31/10/2022   15:52:42         2022                0   \n",
       "3       31/10/2022   15:52:42         2022                0   \n",
       "8       31/10/2022   15:52:42         2022                0   \n",
       "...            ...        ...          ...              ...   \n",
       "800285  31/10/2022   15:52:42         2022                0   \n",
       "800290  31/10/2022   15:52:42         2022                0   \n",
       "800291  31/10/2022   15:52:42         2022                0   \n",
       "800292  31/10/2022   15:52:42         2022                0   \n",
       "800293  31/10/2022   15:52:42         2022                0   \n",
       "\n",
       "          NM_TIPO_ELEICAO  CD_PLEITO   DT_PLEITO  NR_TURNO  CD_ELEICAO  \\\n",
       "0       Eleição Ordinária        407  30/10/2022         2         545   \n",
       "1       Eleição Ordinária        407  30/10/2022         2         545   \n",
       "2       Eleição Ordinária        407  30/10/2022         2         545   \n",
       "3       Eleição Ordinária        407  30/10/2022         2         545   \n",
       "8       Eleição Ordinária        407  30/10/2022         2         545   \n",
       "...                   ...        ...         ...       ...         ...   \n",
       "800285  Eleição Ordinária        407  30/10/2022         2         545   \n",
       "800290  Eleição Ordinária        407  30/10/2022         2         545   \n",
       "800291  Eleição Ordinária        407  30/10/2022         2         545   \n",
       "800292  Eleição Ordinária        407  30/10/2022         2         545   \n",
       "800293  Eleição Ordinária        407  30/10/2022         2         545   \n",
       "\n",
       "                        DS_ELEICAO  ... CD_FLASHCARD_URNA_EFETIVADA  \\\n",
       "0       Eleição Geral Federal 2022  ...                    A836CFA2   \n",
       "1       Eleição Geral Federal 2022  ...                    A836CFA2   \n",
       "2       Eleição Geral Federal 2022  ...                    A836CFA2   \n",
       "3       Eleição Geral Federal 2022  ...                    A836CFA2   \n",
       "8       Eleição Geral Federal 2022  ...                    A836CFA2   \n",
       "...                            ...  ...                         ...   \n",
       "800285  Eleição Geral Federal 2022  ...                    1B7C2705   \n",
       "800290  Eleição Geral Federal 2022  ...                    FB080C3F   \n",
       "800291  Eleição Geral Federal 2022  ...                    FB080C3F   \n",
       "800292  Eleição Geral Federal 2022  ...                    FB080C3F   \n",
       "800293  Eleição Geral Federal 2022  ...                    FB080C3F   \n",
       "\n",
       "        DT_CARGA_URNA_EFETIVADA DS_CARGO_PERGUNTA_SECAO  DS_AGREGADAS  \\\n",
       "0           22/09/2022 11:04:00                   1 - 1        #NULO#   \n",
       "1           22/09/2022 11:04:00                   1 - 1        #NULO#   \n",
       "2           22/09/2022 11:04:00                   1 - 1        #NULO#   \n",
       "3           22/09/2022 11:04:00                   1 - 1        #NULO#   \n",
       "8           22/09/2022 11:11:00                   1 - 2        #NULO#   \n",
       "...                         ...                     ...           ...   \n",
       "800285      22/09/2022 11:34:00                 1 - 405        #NULO#   \n",
       "800290      25/09/2022 12:43:00                 1 - 406        #NULO#   \n",
       "800291      25/09/2022 12:43:00                 1 - 406        #NULO#   \n",
       "800292      25/09/2022 12:43:00                 1 - 406        #NULO#   \n",
       "800293      25/09/2022 12:43:00                 1 - 406        #NULO#   \n",
       "\n",
       "                DT_ABERTURA      DT_ENCERRAMENTO  QT_ELEITORES_BIOMETRIA_NH  \\\n",
       "0       30/10/2022 08:00:01  30/10/2022 17:02:35                         46   \n",
       "1       30/10/2022 08:00:01  30/10/2022 17:02:35                         46   \n",
       "2       30/10/2022 08:00:01  30/10/2022 17:02:35                         46   \n",
       "3       30/10/2022 08:00:01  30/10/2022 17:02:35                         46   \n",
       "8       30/10/2022 08:00:01  30/10/2022 17:03:57                         33   \n",
       "...                     ...                  ...                        ...   \n",
       "800285  30/10/2022 08:00:01  30/10/2022 17:01:47                          2   \n",
       "800290  30/10/2022 08:00:01  30/10/2022 17:06:57                          3   \n",
       "800291  30/10/2022 08:00:01  30/10/2022 17:06:57                          3   \n",
       "800292  30/10/2022 08:00:01  30/10/2022 17:06:57                          3   \n",
       "800293  30/10/2022 08:00:01  30/10/2022 17:06:57                          3   \n",
       "\n",
       "              DT_EMISSAO_BU  NR_JUNTA_APURADORA NR_TURMA_APURADORA  \n",
       "0       30/10/2022 17:04:05                  -1                 -1  \n",
       "1       30/10/2022 17:04:05                  -1                 -1  \n",
       "2       30/10/2022 17:04:05                  -1                 -1  \n",
       "3       30/10/2022 17:04:05                  -1                 -1  \n",
       "8       30/10/2022 17:04:50                  -1                 -1  \n",
       "...                     ...                 ...                ...  \n",
       "800285  30/10/2022 17:05:33                  -1                 -1  \n",
       "800290  30/10/2022 17:08:53                  -1                 -1  \n",
       "800291  30/10/2022 17:08:53                  -1                 -1  \n",
       "800292  30/10/2022 17:08:53                  -1                 -1  \n",
       "800293  30/10/2022 17:08:53                  -1                 -1  \n",
       "\n",
       "[105004 rows x 45 columns]"
      ]
     },
     "execution_count": 13,
     "metadata": {},
     "output_type": "execute_result"
    }
   ],
   "source": [
    "boletins"
   ]
  },
  {
   "cell_type": "code",
   "execution_count": 14,
   "id": "1e9eb36e-0644-4fee-a603-2198208f6401",
   "metadata": {},
   "outputs": [
    {
     "data": {
      "text/html": [
       "<div>\n",
       "<style scoped>\n",
       "    .dataframe tbody tr th:only-of-type {\n",
       "        vertical-align: middle;\n",
       "    }\n",
       "\n",
       "    .dataframe tbody tr th {\n",
       "        vertical-align: top;\n",
       "    }\n",
       "\n",
       "    .dataframe thead th {\n",
       "        text-align: right;\n",
       "    }\n",
       "</style>\n",
       "<table border=\"1\" class=\"dataframe\">\n",
       "  <thead>\n",
       "    <tr style=\"text-align: right;\">\n",
       "      <th></th>\n",
       "      <th>NR_PARTIDO</th>\n",
       "      <th>SG_PARTIDO</th>\n",
       "      <th>NM_VOTAVEL</th>\n",
       "      <th>NR_VOTAVEL</th>\n",
       "    </tr>\n",
       "  </thead>\n",
       "  <tbody>\n",
       "    <tr>\n",
       "      <th>0</th>\n",
       "      <td>-1</td>\n",
       "      <td>#NULO#</td>\n",
       "      <td>Nulo</td>\n",
       "      <td>96</td>\n",
       "    </tr>\n",
       "    <tr>\n",
       "      <th>1</th>\n",
       "      <td>22</td>\n",
       "      <td>PL</td>\n",
       "      <td>JAIR BOLSONARO</td>\n",
       "      <td>22</td>\n",
       "    </tr>\n",
       "    <tr>\n",
       "      <th>2</th>\n",
       "      <td>13</td>\n",
       "      <td>PT</td>\n",
       "      <td>LULA</td>\n",
       "      <td>13</td>\n",
       "    </tr>\n",
       "    <tr>\n",
       "      <th>3</th>\n",
       "      <td>-1</td>\n",
       "      <td>#NULO#</td>\n",
       "      <td>Branco</td>\n",
       "      <td>95</td>\n",
       "    </tr>\n",
       "  </tbody>\n",
       "</table>\n",
       "</div>"
      ],
      "text/plain": [
       "   NR_PARTIDO SG_PARTIDO      NM_VOTAVEL  NR_VOTAVEL\n",
       "0          -1     #NULO#            Nulo          96\n",
       "1          22         PL  JAIR BOLSONARO          22\n",
       "2          13         PT            LULA          13\n",
       "3          -1     #NULO#          Branco          95"
      ]
     },
     "execution_count": 14,
     "metadata": {},
     "output_type": "execute_result"
    }
   ],
   "source": [
    "boletins[['NR_PARTIDO', 'SG_PARTIDO', 'NM_VOTAVEL', 'NR_VOTAVEL']].drop_duplicates()"
   ]
  },
  {
   "cell_type": "code",
   "execution_count": 15,
   "id": "cbd4e3fe-7e0a-40ce-82aa-7b03d6c6a5ab",
   "metadata": {},
   "outputs": [
    {
     "data": {
      "text/plain": [
       "array(['Nulo', 'JAIR BOLSONARO', 'LULA', 'Branco'], dtype=object)"
      ]
     },
     "execution_count": 15,
     "metadata": {},
     "output_type": "execute_result"
    }
   ],
   "source": [
    "boletins['NM_VOTAVEL'].unique()"
   ]
  },
  {
   "cell_type": "markdown",
   "id": "d6879ec7-4cd6-4008-8273-edbe668e5f61",
   "metadata": {},
   "source": [
    "Calcular a quantidade de votos"
   ]
  },
  {
   "cell_type": "code",
   "execution_count": 16,
   "id": "3451fcea-c424-462b-b4c5-3b36723aa338",
   "metadata": {},
   "outputs": [],
   "source": [
    "cols_interesse = [\n",
    "    'NR_ZONA',\n",
    "    'NR_SECAO',\n",
    "    'NM_VOTAVEL',\n",
    "    'QT_VOTOS'\n",
    "]"
   ]
  },
  {
   "cell_type": "code",
   "execution_count": 17,
   "id": "8489f938-e8c7-449b-9dbc-d102cb4f30c3",
   "metadata": {},
   "outputs": [],
   "source": [
    "votos = boletins[cols_interesse].copy()"
   ]
  },
  {
   "cell_type": "code",
   "execution_count": 18,
   "id": "7cf1e112-c75b-4359-84ba-f68a2c2f6a8a",
   "metadata": {},
   "outputs": [],
   "source": [
    "votos['zona_secao'] = votos['NR_ZONA'].astype(str) + '.' + votos['NR_SECAO'].astype(str)"
   ]
  },
  {
   "cell_type": "code",
   "execution_count": 19,
   "id": "19be2419-b4b2-450c-be3e-2b400435879b",
   "metadata": {},
   "outputs": [],
   "source": [
    "votos_pivo = votos.pivot(index='zona_secao', columns='NM_VOTAVEL', values='QT_VOTOS')"
   ]
  },
  {
   "cell_type": "code",
   "execution_count": 20,
   "id": "721840ee-7bce-45eb-9ae3-a7bc5b68363b",
   "metadata": {},
   "outputs": [],
   "source": [
    "votos_pivo.columns.name=''"
   ]
  },
  {
   "cell_type": "code",
   "execution_count": 21,
   "id": "7896cc7a-5d4c-4416-beb9-d984f4a6b9d1",
   "metadata": {},
   "outputs": [],
   "source": [
    "votos_pivo = votos_pivo.reset_index()"
   ]
  },
  {
   "cell_type": "code",
   "execution_count": 22,
   "id": "60529f30-7424-4862-b637-e7fb8ede41e7",
   "metadata": {},
   "outputs": [],
   "source": [
    "votos_pivo['NR_ZONA'] = votos_pivo['zona_secao'].str.split('.').apply(lambda x: x[0])"
   ]
  },
  {
   "cell_type": "code",
   "execution_count": 23,
   "id": "f03e009d-8d4c-44f0-9cfd-870d22b673e2",
   "metadata": {},
   "outputs": [
    {
     "data": {
      "text/html": [
       "<div>\n",
       "<style scoped>\n",
       "    .dataframe tbody tr th:only-of-type {\n",
       "        vertical-align: middle;\n",
       "    }\n",
       "\n",
       "    .dataframe tbody tr th {\n",
       "        vertical-align: top;\n",
       "    }\n",
       "\n",
       "    .dataframe thead th {\n",
       "        text-align: right;\n",
       "    }\n",
       "</style>\n",
       "<table border=\"1\" class=\"dataframe\">\n",
       "  <thead>\n",
       "    <tr style=\"text-align: right;\">\n",
       "      <th></th>\n",
       "      <th>zona_secao</th>\n",
       "      <th>Branco</th>\n",
       "      <th>JAIR BOLSONARO</th>\n",
       "      <th>LULA</th>\n",
       "      <th>Nulo</th>\n",
       "      <th>NR_ZONA</th>\n",
       "    </tr>\n",
       "  </thead>\n",
       "  <tbody>\n",
       "    <tr>\n",
       "      <th>0</th>\n",
       "      <td>1.1</td>\n",
       "      <td>8.0</td>\n",
       "      <td>132.0</td>\n",
       "      <td>127.0</td>\n",
       "      <td>12.0</td>\n",
       "      <td>1</td>\n",
       "    </tr>\n",
       "    <tr>\n",
       "      <th>1</th>\n",
       "      <td>1.10</td>\n",
       "      <td>2.0</td>\n",
       "      <td>80.0</td>\n",
       "      <td>117.0</td>\n",
       "      <td>13.0</td>\n",
       "      <td>1</td>\n",
       "    </tr>\n",
       "    <tr>\n",
       "      <th>2</th>\n",
       "      <td>1.101</td>\n",
       "      <td>3.0</td>\n",
       "      <td>102.0</td>\n",
       "      <td>115.0</td>\n",
       "      <td>1.0</td>\n",
       "      <td>1</td>\n",
       "    </tr>\n",
       "    <tr>\n",
       "      <th>3</th>\n",
       "      <td>1.103</td>\n",
       "      <td>1.0</td>\n",
       "      <td>113.0</td>\n",
       "      <td>108.0</td>\n",
       "      <td>9.0</td>\n",
       "      <td>1</td>\n",
       "    </tr>\n",
       "    <tr>\n",
       "      <th>4</th>\n",
       "      <td>1.105</td>\n",
       "      <td>5.0</td>\n",
       "      <td>105.0</td>\n",
       "      <td>109.0</td>\n",
       "      <td>7.0</td>\n",
       "      <td>1</td>\n",
       "    </tr>\n",
       "  </tbody>\n",
       "</table>\n",
       "</div>"
      ],
      "text/plain": [
       "  zona_secao  Branco  JAIR BOLSONARO   LULA  Nulo NR_ZONA\n",
       "0        1.1     8.0           132.0  127.0  12.0       1\n",
       "1       1.10     2.0            80.0  117.0  13.0       1\n",
       "2      1.101     3.0           102.0  115.0   1.0       1\n",
       "3      1.103     1.0           113.0  108.0   9.0       1\n",
       "4      1.105     5.0           105.0  109.0   7.0       1"
      ]
     },
     "execution_count": 23,
     "metadata": {},
     "output_type": "execute_result"
    }
   ],
   "source": [
    "votos_pivo.head()"
   ]
  },
  {
   "cell_type": "code",
   "execution_count": 24,
   "id": "7cc9e212-f922-4ba8-8c7e-3bb93f5cbe06",
   "metadata": {},
   "outputs": [],
   "source": [
    "cols_votos = [\n",
    "    'NR_ZONA', \n",
    "    'JAIR BOLSONARO',\n",
    "    'Branco',\n",
    "    'LULA',\n",
    "    'Nulo'\n",
    "]"
   ]
  },
  {
   "cell_type": "code",
   "execution_count": 25,
   "id": "06b2e7b8-fa87-4fa5-996c-783839beb55d",
   "metadata": {},
   "outputs": [],
   "source": [
    "votos_pivo = votos_pivo[cols_votos].copy()"
   ]
  },
  {
   "cell_type": "code",
   "execution_count": 26,
   "id": "827caa0b-2dfa-4ea0-b8d7-b38874ebcba4",
   "metadata": {},
   "outputs": [],
   "source": [
    "votos_pivo.rename({col : col.lower().replace(' ', '_') \n",
    "                   for col in cols_votos}, axis=1, inplace=True)"
   ]
  },
  {
   "cell_type": "code",
   "execution_count": 27,
   "id": "4dbe136f-3b4e-4f0f-a9b4-572b87afc489",
   "metadata": {},
   "outputs": [
    {
     "data": {
      "text/html": [
       "<div>\n",
       "<style scoped>\n",
       "    .dataframe tbody tr th:only-of-type {\n",
       "        vertical-align: middle;\n",
       "    }\n",
       "\n",
       "    .dataframe tbody tr th {\n",
       "        vertical-align: top;\n",
       "    }\n",
       "\n",
       "    .dataframe thead th {\n",
       "        text-align: right;\n",
       "    }\n",
       "</style>\n",
       "<table border=\"1\" class=\"dataframe\">\n",
       "  <thead>\n",
       "    <tr style=\"text-align: right;\">\n",
       "      <th></th>\n",
       "      <th>nr_zona</th>\n",
       "      <th>jair_bolsonaro</th>\n",
       "      <th>branco</th>\n",
       "      <th>lula</th>\n",
       "      <th>nulo</th>\n",
       "    </tr>\n",
       "  </thead>\n",
       "  <tbody>\n",
       "    <tr>\n",
       "      <th>0</th>\n",
       "      <td>1</td>\n",
       "      <td>132.0</td>\n",
       "      <td>8.0</td>\n",
       "      <td>127.0</td>\n",
       "      <td>12.0</td>\n",
       "    </tr>\n",
       "    <tr>\n",
       "      <th>1</th>\n",
       "      <td>1</td>\n",
       "      <td>80.0</td>\n",
       "      <td>2.0</td>\n",
       "      <td>117.0</td>\n",
       "      <td>13.0</td>\n",
       "    </tr>\n",
       "    <tr>\n",
       "      <th>2</th>\n",
       "      <td>1</td>\n",
       "      <td>102.0</td>\n",
       "      <td>3.0</td>\n",
       "      <td>115.0</td>\n",
       "      <td>1.0</td>\n",
       "    </tr>\n",
       "    <tr>\n",
       "      <th>3</th>\n",
       "      <td>1</td>\n",
       "      <td>113.0</td>\n",
       "      <td>1.0</td>\n",
       "      <td>108.0</td>\n",
       "      <td>9.0</td>\n",
       "    </tr>\n",
       "    <tr>\n",
       "      <th>4</th>\n",
       "      <td>1</td>\n",
       "      <td>105.0</td>\n",
       "      <td>5.0</td>\n",
       "      <td>109.0</td>\n",
       "      <td>7.0</td>\n",
       "    </tr>\n",
       "  </tbody>\n",
       "</table>\n",
       "</div>"
      ],
      "text/plain": [
       "  nr_zona  jair_bolsonaro  branco   lula  nulo\n",
       "0       1           132.0     8.0  127.0  12.0\n",
       "1       1            80.0     2.0  117.0  13.0\n",
       "2       1           102.0     3.0  115.0   1.0\n",
       "3       1           113.0     1.0  108.0   9.0\n",
       "4       1           105.0     5.0  109.0   7.0"
      ]
     },
     "execution_count": 27,
     "metadata": {},
     "output_type": "execute_result"
    }
   ],
   "source": [
    "votos_pivo.head()"
   ]
  },
  {
   "cell_type": "code",
   "execution_count": 28,
   "id": "0c8fba41-0cd6-4eff-8832-bb7320880a34",
   "metadata": {},
   "outputs": [],
   "source": [
    "votos = votos_pivo.groupby('nr_zona').sum().reset_index()"
   ]
  },
  {
   "cell_type": "code",
   "execution_count": 29,
   "id": "271e8e02-2683-4ab0-99d7-4cda8082160f",
   "metadata": {},
   "outputs": [
    {
     "data": {
      "text/html": [
       "<div>\n",
       "<style scoped>\n",
       "    .dataframe tbody tr th:only-of-type {\n",
       "        vertical-align: middle;\n",
       "    }\n",
       "\n",
       "    .dataframe tbody tr th {\n",
       "        vertical-align: top;\n",
       "    }\n",
       "\n",
       "    .dataframe thead th {\n",
       "        text-align: right;\n",
       "    }\n",
       "</style>\n",
       "<table border=\"1\" class=\"dataframe\">\n",
       "  <thead>\n",
       "    <tr style=\"text-align: right;\">\n",
       "      <th></th>\n",
       "      <th>nr_zona</th>\n",
       "      <th>jair_bolsonaro</th>\n",
       "      <th>branco</th>\n",
       "      <th>lula</th>\n",
       "      <th>nulo</th>\n",
       "    </tr>\n",
       "  </thead>\n",
       "  <tbody>\n",
       "    <tr>\n",
       "      <th>0</th>\n",
       "      <td>1</td>\n",
       "      <td>38733.0</td>\n",
       "      <td>1763.0</td>\n",
       "      <td>68072.0</td>\n",
       "      <td>3780.0</td>\n",
       "    </tr>\n",
       "    <tr>\n",
       "      <th>1</th>\n",
       "      <td>2</td>\n",
       "      <td>63525.0</td>\n",
       "      <td>2774.0</td>\n",
       "      <td>79314.0</td>\n",
       "      <td>5822.0</td>\n",
       "    </tr>\n",
       "    <tr>\n",
       "      <th>2</th>\n",
       "      <td>20</td>\n",
       "      <td>42845.0</td>\n",
       "      <td>2772.0</td>\n",
       "      <td>80772.0</td>\n",
       "      <td>5511.0</td>\n",
       "    </tr>\n",
       "    <tr>\n",
       "      <th>3</th>\n",
       "      <td>246</td>\n",
       "      <td>49575.0</td>\n",
       "      <td>2187.0</td>\n",
       "      <td>37809.0</td>\n",
       "      <td>4462.0</td>\n",
       "    </tr>\n",
       "    <tr>\n",
       "      <th>4</th>\n",
       "      <td>247</td>\n",
       "      <td>37995.0</td>\n",
       "      <td>1935.0</td>\n",
       "      <td>42997.0</td>\n",
       "      <td>4356.0</td>\n",
       "    </tr>\n",
       "  </tbody>\n",
       "</table>\n",
       "</div>"
      ],
      "text/plain": [
       "  nr_zona  jair_bolsonaro  branco     lula    nulo\n",
       "0       1         38733.0  1763.0  68072.0  3780.0\n",
       "1       2         63525.0  2774.0  79314.0  5822.0\n",
       "2      20         42845.0  2772.0  80772.0  5511.0\n",
       "3     246         49575.0  2187.0  37809.0  4462.0\n",
       "4     247         37995.0  1935.0  42997.0  4356.0"
      ]
     },
     "execution_count": 29,
     "metadata": {},
     "output_type": "execute_result"
    }
   ],
   "source": [
    "votos.head()"
   ]
  },
  {
   "cell_type": "code",
   "execution_count": 30,
   "id": "0fb23061-3bdc-4819-907f-55a77ce48a75",
   "metadata": {},
   "outputs": [],
   "source": [
    "for col in votos.columns:\n",
    "    votos[col] = votos[col].astype(int)"
   ]
  },
  {
   "cell_type": "code",
   "execution_count": 31,
   "id": "1460b247-5174-4832-b42e-d461ece47a78",
   "metadata": {},
   "outputs": [
    {
     "data": {
      "text/html": [
       "<div>\n",
       "<style scoped>\n",
       "    .dataframe tbody tr th:only-of-type {\n",
       "        vertical-align: middle;\n",
       "    }\n",
       "\n",
       "    .dataframe tbody tr th {\n",
       "        vertical-align: top;\n",
       "    }\n",
       "\n",
       "    .dataframe thead th {\n",
       "        text-align: right;\n",
       "    }\n",
       "</style>\n",
       "<table border=\"1\" class=\"dataframe\">\n",
       "  <thead>\n",
       "    <tr style=\"text-align: right;\">\n",
       "      <th></th>\n",
       "      <th>nr_zona</th>\n",
       "      <th>jair_bolsonaro</th>\n",
       "      <th>branco</th>\n",
       "      <th>lula</th>\n",
       "      <th>nulo</th>\n",
       "    </tr>\n",
       "  </thead>\n",
       "  <tbody>\n",
       "    <tr>\n",
       "      <th>0</th>\n",
       "      <td>1</td>\n",
       "      <td>38733</td>\n",
       "      <td>1763</td>\n",
       "      <td>68072</td>\n",
       "      <td>3780</td>\n",
       "    </tr>\n",
       "    <tr>\n",
       "      <th>1</th>\n",
       "      <td>2</td>\n",
       "      <td>63525</td>\n",
       "      <td>2774</td>\n",
       "      <td>79314</td>\n",
       "      <td>5822</td>\n",
       "    </tr>\n",
       "    <tr>\n",
       "      <th>2</th>\n",
       "      <td>20</td>\n",
       "      <td>42845</td>\n",
       "      <td>2772</td>\n",
       "      <td>80772</td>\n",
       "      <td>5511</td>\n",
       "    </tr>\n",
       "    <tr>\n",
       "      <th>3</th>\n",
       "      <td>246</td>\n",
       "      <td>49575</td>\n",
       "      <td>2187</td>\n",
       "      <td>37809</td>\n",
       "      <td>4462</td>\n",
       "    </tr>\n",
       "    <tr>\n",
       "      <th>4</th>\n",
       "      <td>247</td>\n",
       "      <td>37995</td>\n",
       "      <td>1935</td>\n",
       "      <td>42997</td>\n",
       "      <td>4356</td>\n",
       "    </tr>\n",
       "  </tbody>\n",
       "</table>\n",
       "</div>"
      ],
      "text/plain": [
       "   nr_zona  jair_bolsonaro  branco   lula  nulo\n",
       "0        1           38733    1763  68072  3780\n",
       "1        2           63525    2774  79314  5822\n",
       "2       20           42845    2772  80772  5511\n",
       "3      246           49575    2187  37809  4462\n",
       "4      247           37995    1935  42997  4356"
      ]
     },
     "execution_count": 31,
     "metadata": {},
     "output_type": "execute_result"
    }
   ],
   "source": [
    "votos.head()"
   ]
  },
  {
   "cell_type": "markdown",
   "id": "2cae0ea8-8d3a-4aa1-aa15-b65493b11b9f",
   "metadata": {},
   "source": [
    "Abstencoes"
   ]
  },
  {
   "cell_type": "code",
   "execution_count": 32,
   "id": "27e49e9d-df57-4a80-9369-14b38da0fe0e",
   "metadata": {},
   "outputs": [
    {
     "data": {
      "text/plain": [
       "Index(['DT_GERACAO', 'HH_GERACAO', 'ANO_ELEICAO', 'CD_TIPO_ELEICAO',\n",
       "       'NM_TIPO_ELEICAO', 'CD_PLEITO', 'DT_PLEITO', 'NR_TURNO', 'CD_ELEICAO',\n",
       "       'DS_ELEICAO', 'SG_UF', 'CD_MUNICIPIO', 'NM_MUNICIPIO', 'NR_ZONA',\n",
       "       'NR_SECAO', 'NR_LOCAL_VOTACAO', 'CD_CARGO_PERGUNTA',\n",
       "       'DS_CARGO_PERGUNTA', 'NR_PARTIDO', 'SG_PARTIDO', 'NM_PARTIDO',\n",
       "       'DT_BU_RECEBIDO', 'QT_APTOS', 'QT_COMPARECIMENTO', 'QT_ABSTENCOES',\n",
       "       'CD_TIPO_URNA', 'DS_TIPO_URNA', 'CD_TIPO_VOTAVEL', 'DS_TIPO_VOTAVEL',\n",
       "       'NR_VOTAVEL', 'NM_VOTAVEL', 'QT_VOTOS', 'NR_URNA_EFETIVADA',\n",
       "       'CD_CARGA_1_URNA_EFETIVADA', 'CD_CARGA_2_URNA_EFETIVADA',\n",
       "       'CD_FLASHCARD_URNA_EFETIVADA', 'DT_CARGA_URNA_EFETIVADA',\n",
       "       'DS_CARGO_PERGUNTA_SECAO', 'DS_AGREGADAS', 'DT_ABERTURA',\n",
       "       'DT_ENCERRAMENTO', 'QT_ELEITORES_BIOMETRIA_NH', 'DT_EMISSAO_BU',\n",
       "       'NR_JUNTA_APURADORA', 'NR_TURMA_APURADORA'],\n",
       "      dtype='object')"
      ]
     },
     "execution_count": 32,
     "metadata": {},
     "output_type": "execute_result"
    }
   ],
   "source": [
    "boletins.keys()"
   ]
  },
  {
   "cell_type": "code",
   "execution_count": 33,
   "id": "a6619e89-58a2-461b-8ae0-d7fcab5c8401",
   "metadata": {},
   "outputs": [],
   "source": [
    "cols_interesse = [\n",
    "    'NR_ZONA',\n",
    "    'NR_SECAO',\n",
    "    'QT_APTOS', \n",
    "    'QT_COMPARECIMENTO', \n",
    "    'QT_ABSTENCOES'\n",
    "]"
   ]
  },
  {
   "cell_type": "code",
   "execution_count": 34,
   "id": "969b3323-0a87-4c83-8d89-f0ca7151b698",
   "metadata": {},
   "outputs": [],
   "source": [
    "abst = boletins[cols_interesse]"
   ]
  },
  {
   "cell_type": "code",
   "execution_count": 35,
   "id": "076b62fa-0ec2-406f-92d6-106a03b442ee",
   "metadata": {},
   "outputs": [
    {
     "data": {
      "text/html": [
       "<div>\n",
       "<style scoped>\n",
       "    .dataframe tbody tr th:only-of-type {\n",
       "        vertical-align: middle;\n",
       "    }\n",
       "\n",
       "    .dataframe tbody tr th {\n",
       "        vertical-align: top;\n",
       "    }\n",
       "\n",
       "    .dataframe thead th {\n",
       "        text-align: right;\n",
       "    }\n",
       "</style>\n",
       "<table border=\"1\" class=\"dataframe\">\n",
       "  <thead>\n",
       "    <tr style=\"text-align: right;\">\n",
       "      <th></th>\n",
       "      <th>NR_ZONA</th>\n",
       "      <th>NR_SECAO</th>\n",
       "      <th>QT_APTOS</th>\n",
       "      <th>QT_COMPARECIMENTO</th>\n",
       "      <th>QT_ABSTENCOES</th>\n",
       "    </tr>\n",
       "  </thead>\n",
       "  <tbody>\n",
       "    <tr>\n",
       "      <th>0</th>\n",
       "      <td>1</td>\n",
       "      <td>1</td>\n",
       "      <td>370</td>\n",
       "      <td>279</td>\n",
       "      <td>91</td>\n",
       "    </tr>\n",
       "    <tr>\n",
       "      <th>1</th>\n",
       "      <td>1</td>\n",
       "      <td>1</td>\n",
       "      <td>370</td>\n",
       "      <td>279</td>\n",
       "      <td>91</td>\n",
       "    </tr>\n",
       "    <tr>\n",
       "      <th>2</th>\n",
       "      <td>1</td>\n",
       "      <td>1</td>\n",
       "      <td>370</td>\n",
       "      <td>279</td>\n",
       "      <td>91</td>\n",
       "    </tr>\n",
       "    <tr>\n",
       "      <th>3</th>\n",
       "      <td>1</td>\n",
       "      <td>1</td>\n",
       "      <td>370</td>\n",
       "      <td>279</td>\n",
       "      <td>91</td>\n",
       "    </tr>\n",
       "    <tr>\n",
       "      <th>8</th>\n",
       "      <td>1</td>\n",
       "      <td>2</td>\n",
       "      <td>387</td>\n",
       "      <td>290</td>\n",
       "      <td>97</td>\n",
       "    </tr>\n",
       "  </tbody>\n",
       "</table>\n",
       "</div>"
      ],
      "text/plain": [
       "   NR_ZONA  NR_SECAO  QT_APTOS  QT_COMPARECIMENTO  QT_ABSTENCOES\n",
       "0        1         1       370                279             91\n",
       "1        1         1       370                279             91\n",
       "2        1         1       370                279             91\n",
       "3        1         1       370                279             91\n",
       "8        1         2       387                290             97"
      ]
     },
     "execution_count": 35,
     "metadata": {},
     "output_type": "execute_result"
    }
   ],
   "source": [
    "abst.head()"
   ]
  },
  {
   "cell_type": "code",
   "execution_count": 36,
   "id": "c571a9ff-d5ed-48ee-9616-7cb5124e088f",
   "metadata": {},
   "outputs": [
    {
     "data": {
      "text/plain": [
       "105004"
      ]
     },
     "execution_count": 36,
     "metadata": {},
     "output_type": "execute_result"
    }
   ],
   "source": [
    "len(abst)"
   ]
  },
  {
   "cell_type": "markdown",
   "id": "05b3381a-e13c-46b5-b219-60b40389fc66",
   "metadata": {},
   "source": [
    "A informação da quantidade de aptos e da quantidade de abstenções é por Seção Eleitoral.\n",
    "\n",
    "Então ela se repete para cada candidato (cada linha são os votos nos candidatos).\n",
    "\n",
    "Por isso temos que dar um drop duplicates."
   ]
  },
  {
   "cell_type": "code",
   "execution_count": 37,
   "id": "6e9e80c6-ec3c-4b84-9301-f99179914552",
   "metadata": {},
   "outputs": [
    {
     "data": {
      "text/plain": [
       "78716"
      ]
     },
     "execution_count": 37,
     "metadata": {},
     "output_type": "execute_result"
    }
   ],
   "source": [
    "abst.duplicated().sum()"
   ]
  },
  {
   "cell_type": "code",
   "execution_count": 38,
   "id": "bfdedf8e-291b-45c9-940a-f07ae3fad87d",
   "metadata": {},
   "outputs": [],
   "source": [
    "abst = abst.drop_duplicates()"
   ]
  },
  {
   "cell_type": "code",
   "execution_count": 39,
   "id": "375b7c8c-3495-4ac3-81ee-5613f2b185e5",
   "metadata": {},
   "outputs": [
    {
     "data": {
      "text/plain": [
       "False"
      ]
     },
     "execution_count": 39,
     "metadata": {},
     "output_type": "execute_result"
    }
   ],
   "source": [
    "abst[['NR_ZONA', 'NR_SECAO']].duplicated().any()"
   ]
  },
  {
   "cell_type": "code",
   "execution_count": 40,
   "id": "8063e887-ce7e-4e6e-8bdd-f14fa0a4e129",
   "metadata": {},
   "outputs": [
    {
     "data": {
      "text/html": [
       "<div>\n",
       "<style scoped>\n",
       "    .dataframe tbody tr th:only-of-type {\n",
       "        vertical-align: middle;\n",
       "    }\n",
       "\n",
       "    .dataframe tbody tr th {\n",
       "        vertical-align: top;\n",
       "    }\n",
       "\n",
       "    .dataframe thead th {\n",
       "        text-align: right;\n",
       "    }\n",
       "</style>\n",
       "<table border=\"1\" class=\"dataframe\">\n",
       "  <thead>\n",
       "    <tr style=\"text-align: right;\">\n",
       "      <th></th>\n",
       "      <th>NR_ZONA</th>\n",
       "      <th>NR_SECAO</th>\n",
       "      <th>QT_APTOS</th>\n",
       "      <th>QT_COMPARECIMENTO</th>\n",
       "      <th>QT_ABSTENCOES</th>\n",
       "    </tr>\n",
       "  </thead>\n",
       "  <tbody>\n",
       "    <tr>\n",
       "      <th>0</th>\n",
       "      <td>1</td>\n",
       "      <td>1</td>\n",
       "      <td>370</td>\n",
       "      <td>279</td>\n",
       "      <td>91</td>\n",
       "    </tr>\n",
       "    <tr>\n",
       "      <th>8</th>\n",
       "      <td>1</td>\n",
       "      <td>2</td>\n",
       "      <td>387</td>\n",
       "      <td>290</td>\n",
       "      <td>97</td>\n",
       "    </tr>\n",
       "    <tr>\n",
       "      <th>16</th>\n",
       "      <td>1</td>\n",
       "      <td>3</td>\n",
       "      <td>385</td>\n",
       "      <td>298</td>\n",
       "      <td>87</td>\n",
       "    </tr>\n",
       "    <tr>\n",
       "      <th>24</th>\n",
       "      <td>1</td>\n",
       "      <td>4</td>\n",
       "      <td>385</td>\n",
       "      <td>298</td>\n",
       "      <td>87</td>\n",
       "    </tr>\n",
       "    <tr>\n",
       "      <th>32</th>\n",
       "      <td>1</td>\n",
       "      <td>5</td>\n",
       "      <td>385</td>\n",
       "      <td>293</td>\n",
       "      <td>92</td>\n",
       "    </tr>\n",
       "  </tbody>\n",
       "</table>\n",
       "</div>"
      ],
      "text/plain": [
       "    NR_ZONA  NR_SECAO  QT_APTOS  QT_COMPARECIMENTO  QT_ABSTENCOES\n",
       "0         1         1       370                279             91\n",
       "8         1         2       387                290             97\n",
       "16        1         3       385                298             87\n",
       "24        1         4       385                298             87\n",
       "32        1         5       385                293             92"
      ]
     },
     "execution_count": 40,
     "metadata": {},
     "output_type": "execute_result"
    }
   ],
   "source": [
    "abst.head()"
   ]
  },
  {
   "cell_type": "code",
   "execution_count": 41,
   "id": "af57b5dc-8a43-4409-b882-b4bd977caa7e",
   "metadata": {},
   "outputs": [],
   "source": [
    "cols_votos = [\n",
    "    'QT_APTOS',\n",
    "    'QT_COMPARECIMENTO',\n",
    "    'QT_ABSTENCOES'\n",
    "]"
   ]
  },
  {
   "cell_type": "code",
   "execution_count": 42,
   "id": "025a0cd2-7ccb-47c8-9412-9b47dd3d0b08",
   "metadata": {},
   "outputs": [],
   "source": [
    "abst_zona = abst.groupby('NR_ZONA')[cols_votos].sum().reset_index()"
   ]
  },
  {
   "cell_type": "code",
   "execution_count": 43,
   "id": "c521bb79-5382-4e0d-8bb7-e6bb809a1c95",
   "metadata": {},
   "outputs": [
    {
     "data": {
      "text/html": [
       "<div>\n",
       "<style scoped>\n",
       "    .dataframe tbody tr th:only-of-type {\n",
       "        vertical-align: middle;\n",
       "    }\n",
       "\n",
       "    .dataframe tbody tr th {\n",
       "        vertical-align: top;\n",
       "    }\n",
       "\n",
       "    .dataframe thead th {\n",
       "        text-align: right;\n",
       "    }\n",
       "</style>\n",
       "<table border=\"1\" class=\"dataframe\">\n",
       "  <thead>\n",
       "    <tr style=\"text-align: right;\">\n",
       "      <th></th>\n",
       "      <th>NR_ZONA</th>\n",
       "      <th>QT_APTOS</th>\n",
       "      <th>QT_COMPARECIMENTO</th>\n",
       "      <th>QT_ABSTENCOES</th>\n",
       "    </tr>\n",
       "  </thead>\n",
       "  <tbody>\n",
       "    <tr>\n",
       "      <th>0</th>\n",
       "      <td>1</td>\n",
       "      <td>152763</td>\n",
       "      <td>112348</td>\n",
       "      <td>40415</td>\n",
       "    </tr>\n",
       "    <tr>\n",
       "      <th>1</th>\n",
       "      <td>2</td>\n",
       "      <td>196996</td>\n",
       "      <td>151435</td>\n",
       "      <td>45561</td>\n",
       "    </tr>\n",
       "    <tr>\n",
       "      <th>2</th>\n",
       "      <td>3</td>\n",
       "      <td>80219</td>\n",
       "      <td>57700</td>\n",
       "      <td>22519</td>\n",
       "    </tr>\n",
       "    <tr>\n",
       "      <th>3</th>\n",
       "      <td>4</td>\n",
       "      <td>165153</td>\n",
       "      <td>127249</td>\n",
       "      <td>37904</td>\n",
       "    </tr>\n",
       "    <tr>\n",
       "      <th>4</th>\n",
       "      <td>5</td>\n",
       "      <td>126805</td>\n",
       "      <td>95235</td>\n",
       "      <td>31570</td>\n",
       "    </tr>\n",
       "  </tbody>\n",
       "</table>\n",
       "</div>"
      ],
      "text/plain": [
       "   NR_ZONA  QT_APTOS  QT_COMPARECIMENTO  QT_ABSTENCOES\n",
       "0        1    152763             112348          40415\n",
       "1        2    196996             151435          45561\n",
       "2        3     80219              57700          22519\n",
       "3        4    165153             127249          37904\n",
       "4        5    126805              95235          31570"
      ]
     },
     "execution_count": 43,
     "metadata": {},
     "output_type": "execute_result"
    }
   ],
   "source": [
    "abst_zona.head()"
   ]
  },
  {
   "cell_type": "code",
   "execution_count": 44,
   "id": "be660a4b-307f-42fc-b76f-e0f1af6a505f",
   "metadata": {},
   "outputs": [],
   "source": [
    "abst_zona.rename({col : col.lower() for col in abst_zona.columns},\n",
    "                axis=1, inplace=True)"
   ]
  },
  {
   "cell_type": "code",
   "execution_count": 45,
   "id": "e79b45b3-790a-4fc8-99f9-1f99871451d8",
   "metadata": {},
   "outputs": [
    {
     "data": {
      "text/html": [
       "<div>\n",
       "<style scoped>\n",
       "    .dataframe tbody tr th:only-of-type {\n",
       "        vertical-align: middle;\n",
       "    }\n",
       "\n",
       "    .dataframe tbody tr th {\n",
       "        vertical-align: top;\n",
       "    }\n",
       "\n",
       "    .dataframe thead th {\n",
       "        text-align: right;\n",
       "    }\n",
       "</style>\n",
       "<table border=\"1\" class=\"dataframe\">\n",
       "  <thead>\n",
       "    <tr style=\"text-align: right;\">\n",
       "      <th></th>\n",
       "      <th>nr_zona</th>\n",
       "      <th>qt_aptos</th>\n",
       "      <th>qt_comparecimento</th>\n",
       "      <th>qt_abstencoes</th>\n",
       "    </tr>\n",
       "  </thead>\n",
       "  <tbody>\n",
       "    <tr>\n",
       "      <th>0</th>\n",
       "      <td>1</td>\n",
       "      <td>152763</td>\n",
       "      <td>112348</td>\n",
       "      <td>40415</td>\n",
       "    </tr>\n",
       "    <tr>\n",
       "      <th>1</th>\n",
       "      <td>2</td>\n",
       "      <td>196996</td>\n",
       "      <td>151435</td>\n",
       "      <td>45561</td>\n",
       "    </tr>\n",
       "    <tr>\n",
       "      <th>2</th>\n",
       "      <td>3</td>\n",
       "      <td>80219</td>\n",
       "      <td>57700</td>\n",
       "      <td>22519</td>\n",
       "    </tr>\n",
       "    <tr>\n",
       "      <th>3</th>\n",
       "      <td>4</td>\n",
       "      <td>165153</td>\n",
       "      <td>127249</td>\n",
       "      <td>37904</td>\n",
       "    </tr>\n",
       "    <tr>\n",
       "      <th>4</th>\n",
       "      <td>5</td>\n",
       "      <td>126805</td>\n",
       "      <td>95235</td>\n",
       "      <td>31570</td>\n",
       "    </tr>\n",
       "  </tbody>\n",
       "</table>\n",
       "</div>"
      ],
      "text/plain": [
       "   nr_zona  qt_aptos  qt_comparecimento  qt_abstencoes\n",
       "0        1    152763             112348          40415\n",
       "1        2    196996             151435          45561\n",
       "2        3     80219              57700          22519\n",
       "3        4    165153             127249          37904\n",
       "4        5    126805              95235          31570"
      ]
     },
     "execution_count": 45,
     "metadata": {},
     "output_type": "execute_result"
    }
   ],
   "source": [
    "abst_zona.head()"
   ]
  },
  {
   "cell_type": "markdown",
   "id": "9ddbfa94-0afa-45f2-93aa-5795f0c75967",
   "metadata": {},
   "source": [
    "Agora vamos dar o merge entre os dois"
   ]
  },
  {
   "cell_type": "code",
   "execution_count": 46,
   "id": "032041ed-0745-48a8-8dd6-2f786ef78b25",
   "metadata": {},
   "outputs": [
    {
     "data": {
      "text/plain": [
       "58"
      ]
     },
     "execution_count": 46,
     "metadata": {},
     "output_type": "execute_result"
    }
   ],
   "source": [
    "len(abst_zona)"
   ]
  },
  {
   "cell_type": "code",
   "execution_count": 47,
   "id": "edf8182e-9e00-4bb3-ac63-2a6d30d8ea2e",
   "metadata": {},
   "outputs": [
    {
     "data": {
      "text/plain": [
       "58"
      ]
     },
     "execution_count": 47,
     "metadata": {},
     "output_type": "execute_result"
    }
   ],
   "source": [
    "len(votos)"
   ]
  },
  {
   "cell_type": "code",
   "execution_count": 48,
   "id": "ea80659a-ef61-4a71-aa5e-dc3702628445",
   "metadata": {},
   "outputs": [],
   "source": [
    "votos_final = pd.merge(abst_zona, votos, on='nr_zona', how='inner')"
   ]
  },
  {
   "cell_type": "code",
   "execution_count": 49,
   "id": "db284efb-5cc2-4cca-90d0-2034efc56fa4",
   "metadata": {},
   "outputs": [
    {
     "data": {
      "text/html": [
       "<div>\n",
       "<style scoped>\n",
       "    .dataframe tbody tr th:only-of-type {\n",
       "        vertical-align: middle;\n",
       "    }\n",
       "\n",
       "    .dataframe tbody tr th {\n",
       "        vertical-align: top;\n",
       "    }\n",
       "\n",
       "    .dataframe thead th {\n",
       "        text-align: right;\n",
       "    }\n",
       "</style>\n",
       "<table border=\"1\" class=\"dataframe\">\n",
       "  <thead>\n",
       "    <tr style=\"text-align: right;\">\n",
       "      <th></th>\n",
       "      <th>nr_zona</th>\n",
       "      <th>qt_aptos</th>\n",
       "      <th>qt_comparecimento</th>\n",
       "      <th>qt_abstencoes</th>\n",
       "      <th>jair_bolsonaro</th>\n",
       "      <th>branco</th>\n",
       "      <th>lula</th>\n",
       "      <th>nulo</th>\n",
       "    </tr>\n",
       "  </thead>\n",
       "  <tbody>\n",
       "    <tr>\n",
       "      <th>0</th>\n",
       "      <td>1</td>\n",
       "      <td>152763</td>\n",
       "      <td>112348</td>\n",
       "      <td>40415</td>\n",
       "      <td>38733</td>\n",
       "      <td>1763</td>\n",
       "      <td>68072</td>\n",
       "      <td>3780</td>\n",
       "    </tr>\n",
       "    <tr>\n",
       "      <th>1</th>\n",
       "      <td>2</td>\n",
       "      <td>196996</td>\n",
       "      <td>151435</td>\n",
       "      <td>45561</td>\n",
       "      <td>63525</td>\n",
       "      <td>2774</td>\n",
       "      <td>79314</td>\n",
       "      <td>5822</td>\n",
       "    </tr>\n",
       "    <tr>\n",
       "      <th>2</th>\n",
       "      <td>3</td>\n",
       "      <td>80219</td>\n",
       "      <td>57700</td>\n",
       "      <td>22519</td>\n",
       "      <td>25295</td>\n",
       "      <td>1020</td>\n",
       "      <td>29166</td>\n",
       "      <td>2219</td>\n",
       "    </tr>\n",
       "    <tr>\n",
       "      <th>3</th>\n",
       "      <td>4</td>\n",
       "      <td>165153</td>\n",
       "      <td>127249</td>\n",
       "      <td>37904</td>\n",
       "      <td>69747</td>\n",
       "      <td>2475</td>\n",
       "      <td>49445</td>\n",
       "      <td>5582</td>\n",
       "    </tr>\n",
       "    <tr>\n",
       "      <th>4</th>\n",
       "      <td>5</td>\n",
       "      <td>126805</td>\n",
       "      <td>95235</td>\n",
       "      <td>31570</td>\n",
       "      <td>48121</td>\n",
       "      <td>2007</td>\n",
       "      <td>41347</td>\n",
       "      <td>3760</td>\n",
       "    </tr>\n",
       "  </tbody>\n",
       "</table>\n",
       "</div>"
      ],
      "text/plain": [
       "   nr_zona  qt_aptos  qt_comparecimento  qt_abstencoes  jair_bolsonaro  \\\n",
       "0        1    152763             112348          40415           38733   \n",
       "1        2    196996             151435          45561           63525   \n",
       "2        3     80219              57700          22519           25295   \n",
       "3        4    165153             127249          37904           69747   \n",
       "4        5    126805              95235          31570           48121   \n",
       "\n",
       "   branco   lula  nulo  \n",
       "0    1763  68072  3780  \n",
       "1    2774  79314  5822  \n",
       "2    1020  29166  2219  \n",
       "3    2475  49445  5582  \n",
       "4    2007  41347  3760  "
      ]
     },
     "execution_count": 49,
     "metadata": {},
     "output_type": "execute_result"
    }
   ],
   "source": [
    "votos_final.head()"
   ]
  },
  {
   "cell_type": "code",
   "execution_count": 50,
   "id": "ef44298d-bccd-48c1-b5f5-5007a5ef2912",
   "metadata": {},
   "outputs": [
    {
     "data": {
      "text/plain": [
       "True"
      ]
     },
     "execution_count": 50,
     "metadata": {},
     "output_type": "execute_result"
    }
   ],
   "source": [
    "len(votos_final) == len(votos) == len(abst_zona) == 58"
   ]
  },
  {
   "cell_type": "code",
   "execution_count": 51,
   "id": "acfde538-cc96-4608-a3cc-59a90ab38e15",
   "metadata": {},
   "outputs": [],
   "source": [
    "folder_modelagem = solve_path('dados_modelagem', 'data')\n",
    "fpath = solve_path('votos_por_zona.csv', folder_modelagem)"
   ]
  },
  {
   "cell_type": "code",
   "execution_count": 52,
   "id": "23b7d185-63c3-4763-847d-e3af5f610150",
   "metadata": {},
   "outputs": [],
   "source": [
    "votos_final.to_csv(fpath, index=False, sep=';',encoding='utf-8')"
   ]
  },
  {
   "cell_type": "code",
   "execution_count": null,
   "id": "ab3bc97b-17aa-4a77-a87e-9d6aa65bea8d",
   "metadata": {},
   "outputs": [],
   "source": []
  }
 ],
 "metadata": {
  "kernelspec": {
   "display_name": "Python 3",
   "language": "python",
   "name": "python3"
  },
  "language_info": {
   "codemirror_mode": {
    "name": "ipython",
    "version": 3
   },
   "file_extension": ".py",
   "mimetype": "text/x-python",
   "name": "python",
   "nbconvert_exporter": "python",
   "pygments_lexer": "ipython3",
   "version": "3.8.8"
  }
 },
 "nbformat": 4,
 "nbformat_minor": 5
}
