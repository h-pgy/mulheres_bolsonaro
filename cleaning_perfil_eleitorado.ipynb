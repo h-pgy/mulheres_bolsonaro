{
 "cells": [
  {
   "cell_type": "code",
   "execution_count": 1,
   "id": "90a84775-750a-448c-b99b-4a5a6155bd8c",
   "metadata": {},
   "outputs": [],
   "source": [
    "from core.load_data import DownloadDadosTse\n",
    "from core.utils import solve_path\n",
    "import pandas as pd"
   ]
  },
  {
   "cell_type": "code",
   "execution_count": 2,
   "id": "0a13c7ab-d233-488f-8273-864440106e55",
   "metadata": {},
   "outputs": [],
   "source": [
    "tse = DownloadDadosTse()"
   ]
  },
  {
   "cell_type": "code",
   "execution_count": 3,
   "id": "a99ac7d5-7586-4c91-9df2-c4c37eb89cd4",
   "metadata": {},
   "outputs": [],
   "source": [
    "df_perfil = tse('perfil_sp', encoding='latin-1', sep=';')"
   ]
  },
  {
   "cell_type": "code",
   "execution_count": 4,
   "id": "077ee41b-7d58-49de-979d-371d83a040ea",
   "metadata": {},
   "outputs": [
    {
     "data": {
      "text/html": [
       "<div>\n",
       "<style scoped>\n",
       "    .dataframe tbody tr th:only-of-type {\n",
       "        vertical-align: middle;\n",
       "    }\n",
       "\n",
       "    .dataframe tbody tr th {\n",
       "        vertical-align: top;\n",
       "    }\n",
       "\n",
       "    .dataframe thead th {\n",
       "        text-align: right;\n",
       "    }\n",
       "</style>\n",
       "<table border=\"1\" class=\"dataframe\">\n",
       "  <thead>\n",
       "    <tr style=\"text-align: right;\">\n",
       "      <th></th>\n",
       "      <th>DT_GERACAO</th>\n",
       "      <th>HH_GERACAO</th>\n",
       "      <th>ANO_ELEICAO</th>\n",
       "      <th>SG_UF</th>\n",
       "      <th>CD_MUNICIPIO</th>\n",
       "      <th>NM_MUNICIPIO</th>\n",
       "      <th>CD_MUN_SIT_BIOMETRIA</th>\n",
       "      <th>DS_MUN_SIT_BIOMETRIA</th>\n",
       "      <th>NR_ZONA</th>\n",
       "      <th>NR_SECAO</th>\n",
       "      <th>...</th>\n",
       "      <th>CD_ESTADO_CIVIL</th>\n",
       "      <th>DS_ESTADO_CIVIL</th>\n",
       "      <th>CD_FAIXA_ETARIA</th>\n",
       "      <th>DS_FAIXA_ETARIA</th>\n",
       "      <th>CD_GRAU_ESCOLARIDADE</th>\n",
       "      <th>DS_GRAU_ESCOLARIDADE</th>\n",
       "      <th>QT_ELEITORES_PERFIL</th>\n",
       "      <th>QT_ELEITORES_BIOMETRIA</th>\n",
       "      <th>QT_ELEITORES_DEFICIENCIA</th>\n",
       "      <th>QT_ELEITORES_INC_NM_SOCIAL</th>\n",
       "    </tr>\n",
       "  </thead>\n",
       "  <tbody>\n",
       "    <tr>\n",
       "      <th>0</th>\n",
       "      <td>01/11/2022</td>\n",
       "      <td>03:40:49</td>\n",
       "      <td>9999</td>\n",
       "      <td>SP</td>\n",
       "      <td>61204</td>\n",
       "      <td>ILHA SOLTEIRA</td>\n",
       "      <td>-2</td>\n",
       "      <td>Não se aplica</td>\n",
       "      <td>368</td>\n",
       "      <td>86</td>\n",
       "      <td>...</td>\n",
       "      <td>1</td>\n",
       "      <td>SOLTEIRO</td>\n",
       "      <td>5054</td>\n",
       "      <td>50 a 54 anos</td>\n",
       "      <td>3</td>\n",
       "      <td>ENSINO FUNDAMENTAL INCOMPLETO</td>\n",
       "      <td>1</td>\n",
       "      <td>1</td>\n",
       "      <td>0</td>\n",
       "      <td>0</td>\n",
       "    </tr>\n",
       "    <tr>\n",
       "      <th>1</th>\n",
       "      <td>01/11/2022</td>\n",
       "      <td>03:40:49</td>\n",
       "      <td>9999</td>\n",
       "      <td>SP</td>\n",
       "      <td>61204</td>\n",
       "      <td>ILHA SOLTEIRA</td>\n",
       "      <td>-2</td>\n",
       "      <td>Não se aplica</td>\n",
       "      <td>368</td>\n",
       "      <td>86</td>\n",
       "      <td>...</td>\n",
       "      <td>3</td>\n",
       "      <td>CASADO</td>\n",
       "      <td>3034</td>\n",
       "      <td>30 a 34 anos</td>\n",
       "      <td>5</td>\n",
       "      <td>ENSINO MÉDIO INCOMPLETO</td>\n",
       "      <td>2</td>\n",
       "      <td>2</td>\n",
       "      <td>0</td>\n",
       "      <td>0</td>\n",
       "    </tr>\n",
       "    <tr>\n",
       "      <th>2</th>\n",
       "      <td>01/11/2022</td>\n",
       "      <td>03:40:49</td>\n",
       "      <td>9999</td>\n",
       "      <td>SP</td>\n",
       "      <td>61204</td>\n",
       "      <td>ILHA SOLTEIRA</td>\n",
       "      <td>-2</td>\n",
       "      <td>Não se aplica</td>\n",
       "      <td>368</td>\n",
       "      <td>86</td>\n",
       "      <td>...</td>\n",
       "      <td>3</td>\n",
       "      <td>CASADO</td>\n",
       "      <td>4549</td>\n",
       "      <td>45 a 49 anos</td>\n",
       "      <td>5</td>\n",
       "      <td>ENSINO MÉDIO INCOMPLETO</td>\n",
       "      <td>2</td>\n",
       "      <td>2</td>\n",
       "      <td>0</td>\n",
       "      <td>0</td>\n",
       "    </tr>\n",
       "    <tr>\n",
       "      <th>3</th>\n",
       "      <td>01/11/2022</td>\n",
       "      <td>03:40:49</td>\n",
       "      <td>9999</td>\n",
       "      <td>SP</td>\n",
       "      <td>61204</td>\n",
       "      <td>ILHA SOLTEIRA</td>\n",
       "      <td>-2</td>\n",
       "      <td>Não se aplica</td>\n",
       "      <td>368</td>\n",
       "      <td>86</td>\n",
       "      <td>...</td>\n",
       "      <td>3</td>\n",
       "      <td>CASADO</td>\n",
       "      <td>5054</td>\n",
       "      <td>50 a 54 anos</td>\n",
       "      <td>3</td>\n",
       "      <td>ENSINO FUNDAMENTAL INCOMPLETO</td>\n",
       "      <td>1</td>\n",
       "      <td>1</td>\n",
       "      <td>0</td>\n",
       "      <td>0</td>\n",
       "    </tr>\n",
       "    <tr>\n",
       "      <th>4</th>\n",
       "      <td>01/11/2022</td>\n",
       "      <td>03:40:49</td>\n",
       "      <td>9999</td>\n",
       "      <td>SP</td>\n",
       "      <td>61204</td>\n",
       "      <td>ILHA SOLTEIRA</td>\n",
       "      <td>-2</td>\n",
       "      <td>Não se aplica</td>\n",
       "      <td>368</td>\n",
       "      <td>86</td>\n",
       "      <td>...</td>\n",
       "      <td>3</td>\n",
       "      <td>CASADO</td>\n",
       "      <td>7074</td>\n",
       "      <td>70 a 74 anos</td>\n",
       "      <td>3</td>\n",
       "      <td>ENSINO FUNDAMENTAL INCOMPLETO</td>\n",
       "      <td>2</td>\n",
       "      <td>2</td>\n",
       "      <td>0</td>\n",
       "      <td>0</td>\n",
       "    </tr>\n",
       "  </tbody>\n",
       "</table>\n",
       "<p>5 rows × 22 columns</p>\n",
       "</div>"
      ],
      "text/plain": [
       "   DT_GERACAO HH_GERACAO  ANO_ELEICAO SG_UF  CD_MUNICIPIO   NM_MUNICIPIO  \\\n",
       "0  01/11/2022   03:40:49         9999    SP         61204  ILHA SOLTEIRA   \n",
       "1  01/11/2022   03:40:49         9999    SP         61204  ILHA SOLTEIRA   \n",
       "2  01/11/2022   03:40:49         9999    SP         61204  ILHA SOLTEIRA   \n",
       "3  01/11/2022   03:40:49         9999    SP         61204  ILHA SOLTEIRA   \n",
       "4  01/11/2022   03:40:49         9999    SP         61204  ILHA SOLTEIRA   \n",
       "\n",
       "   CD_MUN_SIT_BIOMETRIA DS_MUN_SIT_BIOMETRIA  NR_ZONA  NR_SECAO  ...  \\\n",
       "0                    -2        Não se aplica      368        86  ...   \n",
       "1                    -2        Não se aplica      368        86  ...   \n",
       "2                    -2        Não se aplica      368        86  ...   \n",
       "3                    -2        Não se aplica      368        86  ...   \n",
       "4                    -2        Não se aplica      368        86  ...   \n",
       "\n",
       "   CD_ESTADO_CIVIL DS_ESTADO_CIVIL  CD_FAIXA_ETARIA DS_FAIXA_ETARIA  \\\n",
       "0                1        SOLTEIRO             5054    50 a 54 anos   \n",
       "1                3          CASADO             3034    30 a 34 anos   \n",
       "2                3          CASADO             4549    45 a 49 anos   \n",
       "3                3          CASADO             5054    50 a 54 anos   \n",
       "4                3          CASADO             7074    70 a 74 anos   \n",
       "\n",
       "   CD_GRAU_ESCOLARIDADE           DS_GRAU_ESCOLARIDADE  QT_ELEITORES_PERFIL  \\\n",
       "0                     3  ENSINO FUNDAMENTAL INCOMPLETO                    1   \n",
       "1                     5        ENSINO MÉDIO INCOMPLETO                    2   \n",
       "2                     5        ENSINO MÉDIO INCOMPLETO                    2   \n",
       "3                     3  ENSINO FUNDAMENTAL INCOMPLETO                    1   \n",
       "4                     3  ENSINO FUNDAMENTAL INCOMPLETO                    2   \n",
       "\n",
       "  QT_ELEITORES_BIOMETRIA  QT_ELEITORES_DEFICIENCIA  QT_ELEITORES_INC_NM_SOCIAL  \n",
       "0                      1                         0                           0  \n",
       "1                      2                         0                           0  \n",
       "2                      2                         0                           0  \n",
       "3                      1                         0                           0  \n",
       "4                      2                         0                           0  \n",
       "\n",
       "[5 rows x 22 columns]"
      ]
     },
     "execution_count": 4,
     "metadata": {},
     "output_type": "execute_result"
    }
   ],
   "source": [
    "df_perfil.head()"
   ]
  },
  {
   "cell_type": "code",
   "execution_count": 5,
   "id": "3dfffdc8-8253-475a-82f1-ab6857b46648",
   "metadata": {},
   "outputs": [],
   "source": [
    "df_perfil = df_perfil[df_perfil['CD_MUNICIPIO']==71072]"
   ]
  },
  {
   "cell_type": "code",
   "execution_count": 6,
   "id": "beecc265-09da-4304-8474-f9e872f6bf9d",
   "metadata": {},
   "outputs": [
    {
     "data": {
      "text/plain": [
       "Index(['DT_GERACAO', 'HH_GERACAO', 'ANO_ELEICAO', 'SG_UF', 'CD_MUNICIPIO',\n",
       "       'NM_MUNICIPIO', 'CD_MUN_SIT_BIOMETRIA', 'DS_MUN_SIT_BIOMETRIA',\n",
       "       'NR_ZONA', 'NR_SECAO', 'CD_GENERO', 'DS_GENERO', 'CD_ESTADO_CIVIL',\n",
       "       'DS_ESTADO_CIVIL', 'CD_FAIXA_ETARIA', 'DS_FAIXA_ETARIA',\n",
       "       'CD_GRAU_ESCOLARIDADE', 'DS_GRAU_ESCOLARIDADE', 'QT_ELEITORES_PERFIL',\n",
       "       'QT_ELEITORES_BIOMETRIA', 'QT_ELEITORES_DEFICIENCIA',\n",
       "       'QT_ELEITORES_INC_NM_SOCIAL'],\n",
       "      dtype='object')"
      ]
     },
     "execution_count": 6,
     "metadata": {},
     "output_type": "execute_result"
    }
   ],
   "source": [
    "df_perfil.keys()"
   ]
  },
  {
   "cell_type": "code",
   "execution_count": 7,
   "id": "1f794d76-76e0-4063-a350-287bdbc69b4e",
   "metadata": {},
   "outputs": [
    {
     "data": {
      "text/plain": [
       "array(['01/11/2022'], dtype=object)"
      ]
     },
     "execution_count": 7,
     "metadata": {},
     "output_type": "execute_result"
    }
   ],
   "source": [
    "df_perfil['DT_GERACAO'].unique()"
   ]
  },
  {
   "cell_type": "code",
   "execution_count": 8,
   "id": "e193c88c-6573-487a-b507-e29ea7da261e",
   "metadata": {},
   "outputs": [
    {
     "data": {
      "text/plain": [
       "array([9999])"
      ]
     },
     "execution_count": 8,
     "metadata": {},
     "output_type": "execute_result"
    }
   ],
   "source": [
    "df_perfil['ANO_ELEICAO'].unique()"
   ]
  },
  {
   "cell_type": "code",
   "execution_count": 9,
   "id": "16ab219d-dc24-4503-8cdd-4bb4deed45ef",
   "metadata": {},
   "outputs": [
    {
     "data": {
      "text/plain": [
       "array(['Não se aplica'], dtype=object)"
      ]
     },
     "execution_count": 9,
     "metadata": {},
     "output_type": "execute_result"
    }
   ],
   "source": [
    "df_perfil['DS_MUN_SIT_BIOMETRIA'].unique()"
   ]
  },
  {
   "cell_type": "code",
   "execution_count": 10,
   "id": "368317bf-04c0-48f2-9e74-df00a0082826",
   "metadata": {},
   "outputs": [],
   "source": [
    "colunas_interesse = [\n",
    "    'DS_GENERO',\n",
    "    'DS_ESTADO_CIVIL',\n",
    "    'DS_FAIXA_ETARIA',\n",
    "    'DS_GRAU_ESCOLARIDADE',\n",
    "]\n",
    "val_col = 'QT_ELEITORES_PERFIL'\n",
    "index_col = 'NR_ZONA'"
   ]
  },
  {
   "cell_type": "code",
   "execution_count": 11,
   "id": "ab336c31-d1f6-432a-90d8-dd1c9b69bab7",
   "metadata": {},
   "outputs": [],
   "source": [
    "group_keys = [index_col] + colunas_interesse"
   ]
  },
  {
   "cell_type": "code",
   "execution_count": 12,
   "id": "aa640a01-748a-4d23-afb4-30c870b7f9a5",
   "metadata": {},
   "outputs": [],
   "source": [
    "total_keys = group_keys + [val_col, 'NR_SECAO'] "
   ]
  },
  {
   "cell_type": "code",
   "execution_count": 13,
   "id": "86581e64-3864-4a89-b0de-db4b114b8372",
   "metadata": {},
   "outputs": [],
   "source": [
    "df_perfil = df_perfil[total_keys].copy()"
   ]
  },
  {
   "cell_type": "code",
   "execution_count": 14,
   "id": "b2816116-d405-43da-b8df-9a0fedc6be36",
   "metadata": {},
   "outputs": [
    {
     "data": {
      "text/plain": [
       "False"
      ]
     },
     "execution_count": 14,
     "metadata": {},
     "output_type": "execute_result"
    }
   ],
   "source": [
    "df_perfil.duplicated().any()"
   ]
  },
  {
   "cell_type": "code",
   "execution_count": 15,
   "id": "3537695c-bf56-4782-a49a-1f16459535a3",
   "metadata": {},
   "outputs": [
    {
     "data": {
      "text/plain": [
       "58"
      ]
     },
     "execution_count": 15,
     "metadata": {},
     "output_type": "execute_result"
    }
   ],
   "source": [
    "total_zonas = len(df_perfil['NR_ZONA'].unique())\n",
    "total_zonas"
   ]
  },
  {
   "cell_type": "code",
   "execution_count": 16,
   "id": "64add1a7-c0f2-47a1-9b01-e3544e147459",
   "metadata": {},
   "outputs": [],
   "source": [
    "grouped_zona = df_perfil.groupby(group_keys).sum()[val_col].reset_index()"
   ]
  },
  {
   "cell_type": "code",
   "execution_count": 17,
   "id": "ce02d4d7-1952-48cb-a992-e42476c99bb8",
   "metadata": {},
   "outputs": [
    {
     "data": {
      "text/html": [
       "<div>\n",
       "<style scoped>\n",
       "    .dataframe tbody tr th:only-of-type {\n",
       "        vertical-align: middle;\n",
       "    }\n",
       "\n",
       "    .dataframe tbody tr th {\n",
       "        vertical-align: top;\n",
       "    }\n",
       "\n",
       "    .dataframe thead th {\n",
       "        text-align: right;\n",
       "    }\n",
       "</style>\n",
       "<table border=\"1\" class=\"dataframe\">\n",
       "  <thead>\n",
       "    <tr style=\"text-align: right;\">\n",
       "      <th></th>\n",
       "      <th>NR_ZONA</th>\n",
       "      <th>DS_GENERO</th>\n",
       "      <th>DS_ESTADO_CIVIL</th>\n",
       "      <th>DS_FAIXA_ETARIA</th>\n",
       "      <th>DS_GRAU_ESCOLARIDADE</th>\n",
       "      <th>QT_ELEITORES_PERFIL</th>\n",
       "    </tr>\n",
       "  </thead>\n",
       "  <tbody>\n",
       "    <tr>\n",
       "      <th>29846</th>\n",
       "      <td>325</td>\n",
       "      <td>MASCULINO</td>\n",
       "      <td>CASADO</td>\n",
       "      <td>21 a 24 anos</td>\n",
       "      <td>SUPERIOR COMPLETO</td>\n",
       "      <td>3</td>\n",
       "    </tr>\n",
       "    <tr>\n",
       "      <th>15415</th>\n",
       "      <td>251</td>\n",
       "      <td>MASCULINO</td>\n",
       "      <td>SOLTEIRO</td>\n",
       "      <td>30 a 34 anos</td>\n",
       "      <td>ENSINO MÉDIO INCOMPLETO</td>\n",
       "      <td>940</td>\n",
       "    </tr>\n",
       "    <tr>\n",
       "      <th>54516</th>\n",
       "      <td>392</td>\n",
       "      <td>FEMININO</td>\n",
       "      <td>SEPARADO JUDICIALMENTE</td>\n",
       "      <td>55 a 59 anos</td>\n",
       "      <td>ENSINO MÉDIO INCOMPLETO</td>\n",
       "      <td>8</td>\n",
       "    </tr>\n",
       "  </tbody>\n",
       "</table>\n",
       "</div>"
      ],
      "text/plain": [
       "       NR_ZONA  DS_GENERO         DS_ESTADO_CIVIL DS_FAIXA_ETARIA  \\\n",
       "29846      325  MASCULINO                  CASADO    21 a 24 anos   \n",
       "15415      251  MASCULINO                SOLTEIRO    30 a 34 anos   \n",
       "54516      392   FEMININO  SEPARADO JUDICIALMENTE    55 a 59 anos   \n",
       "\n",
       "          DS_GRAU_ESCOLARIDADE  QT_ELEITORES_PERFIL  \n",
       "29846        SUPERIOR COMPLETO                    3  \n",
       "15415  ENSINO MÉDIO INCOMPLETO                  940  \n",
       "54516  ENSINO MÉDIO INCOMPLETO                    8  "
      ]
     },
     "execution_count": 17,
     "metadata": {},
     "output_type": "execute_result"
    }
   ],
   "source": [
    "grouped_zona.sample(3)"
   ]
  },
  {
   "cell_type": "code",
   "execution_count": 18,
   "id": "f5fc6657-9ba4-469f-8993-d9cd5a3dc5c1",
   "metadata": {},
   "outputs": [
    {
     "data": {
      "text/plain": [
       "False"
      ]
     },
     "execution_count": 18,
     "metadata": {},
     "output_type": "execute_result"
    }
   ],
   "source": [
    "grouped_zona.duplicated().any()"
   ]
  },
  {
   "cell_type": "code",
   "execution_count": 19,
   "id": "b85afe44-dc10-4698-99c5-1820c2c0fee9",
   "metadata": {},
   "outputs": [
    {
     "data": {
      "text/plain": [
       "array(['CASADO', 'DIVORCIADO', 'NÃO INFORMADO', 'SEPARADO JUDICIALMENTE',\n",
       "       'SOLTEIRO', 'VIÚVO'], dtype=object)"
      ]
     },
     "execution_count": 19,
     "metadata": {},
     "output_type": "execute_result"
    }
   ],
   "source": [
    "grouped_zona['DS_ESTADO_CIVIL'].unique()"
   ]
  },
  {
   "cell_type": "code",
   "execution_count": 20,
   "id": "8190c04b-62ee-4934-a495-45bf4f687a2a",
   "metadata": {},
   "outputs": [],
   "source": [
    "dfs = []\n",
    "for col in colunas_interesse:\n",
    "    grouped_col = grouped_zona.groupby([index_col, \n",
    "                                        col])[val_col].sum().reset_index()\n",
    "    pivoted_col = pd.pivot_table(grouped_col, \n",
    "                                 index='NR_ZONA', \n",
    "                                 columns = col, \n",
    "                                 values='QT_ELEITORES_PERFIL')\n",
    "    col_vals = [col for col in pivoted_col.columns if col!='NR_ZONA']\n",
    "    pivoted_col = pivoted_col.reset_index()\n",
    "    pivoted_col[f'total_{col.lower()}'] = pivoted_col[col_vals].sum(axis=1).astype(int)\n",
    "    #checa se tamanho ficou certo\n",
    "    assert len(pivoted_col)==total_zonas\n",
    "    \n",
    "    rename = {col_val:f\"{col.lower().replace('ds_', '')}_{col_val.lower()}\"\n",
    "             for col_val in col_vals}\n",
    "    pivoted_col.rename(rename, axis=1, inplace=True)\n",
    "    \n",
    "    dfs.append(pivoted_col)\n",
    "    \n",
    "df_final = pd.concat(dfs, axis=1)"
   ]
  },
  {
   "cell_type": "code",
   "execution_count": 21,
   "id": "db93a901-1275-4f1d-ba6a-3a78155bb406",
   "metadata": {},
   "outputs": [],
   "source": [
    "cols_totais = [col for col in df_final.columns\n",
    "              if col.startswith('total_')]"
   ]
  },
  {
   "cell_type": "code",
   "execution_count": 22,
   "id": "d7e21a80-abf3-4638-918c-56f8840337f7",
   "metadata": {},
   "outputs": [
    {
     "data": {
      "text/plain": [
       "['total_ds_genero',\n",
       " 'total_ds_estado_civil',\n",
       " 'total_ds_faixa_etaria',\n",
       " 'total_ds_grau_escolaridade']"
      ]
     },
     "execution_count": 22,
     "metadata": {},
     "output_type": "execute_result"
    }
   ],
   "source": [
    "cols_totais"
   ]
  },
  {
   "cell_type": "code",
   "execution_count": 23,
   "id": "d61d3651-7511-4ba6-81e8-c4c0890c2c2b",
   "metadata": {},
   "outputs": [],
   "source": [
    "#checar se todas as colunas de total somam a mesma coisa\n",
    "df_totais = df_final[cols_totais]\n",
    "assert df_totais.sum().duplicated(keep=False).all()\n",
    "col_total = df_totais.iloc[:,0]\n",
    "\n",
    "df_final['total_zona'] = col_total\n",
    "\n",
    "df_final.drop(cols_totais, axis=1, inplace=True)"
   ]
  },
  {
   "cell_type": "code",
   "execution_count": 24,
   "id": "60d725ff-a594-44f1-867c-a4247b2c1479",
   "metadata": {},
   "outputs": [],
   "source": [
    "#checar se todas as zonas sao iguais\n",
    "df_zonas = df_final['NR_ZONA']\n",
    "assert df_zonas.sum().duplicated(keep=False).all()\n",
    "col_zona = df_zonas.iloc[:,0]\n",
    "\n",
    "df_final['nr_zona'] = col_zona\n",
    "\n",
    "df_final.drop('NR_ZONA', axis=1, inplace=True)"
   ]
  },
  {
   "cell_type": "code",
   "execution_count": 25,
   "id": "1999461e-c037-46c4-9c27-0852abf2d6fc",
   "metadata": {},
   "outputs": [],
   "source": [
    "del df_totais\n",
    "del grouped_zona"
   ]
  },
  {
   "cell_type": "code",
   "execution_count": 26,
   "id": "b88f171d-94e5-4c42-8c4b-77faa9c7254e",
   "metadata": {},
   "outputs": [
    {
     "data": {
      "text/plain": [
       "Index(['genero_feminino', 'genero_masculino', 'genero_não informado',\n",
       "       'estado_civil_casado', 'estado_civil_divorciado',\n",
       "       'estado_civil_não informado', 'estado_civil_separado judicialmente',\n",
       "       'estado_civil_solteiro', 'estado_civil_viúvo',\n",
       "       'faixa_etaria_100 anos ou mais', 'faixa_etaria_16 anos',\n",
       "       'faixa_etaria_17 anos', 'faixa_etaria_18 anos', 'faixa_etaria_19 anos',\n",
       "       'faixa_etaria_20 anos', 'faixa_etaria_21 a 24 anos',\n",
       "       'faixa_etaria_25 a 29 anos', 'faixa_etaria_30 a 34 anos',\n",
       "       'faixa_etaria_35 a 39 anos', 'faixa_etaria_40 a 44 anos',\n",
       "       'faixa_etaria_45 a 49 anos', 'faixa_etaria_50 a 54 anos',\n",
       "       'faixa_etaria_55 a 59 anos', 'faixa_etaria_60 a 64 anos',\n",
       "       'faixa_etaria_65 a 69 anos', 'faixa_etaria_70 a 74 anos',\n",
       "       'faixa_etaria_75 a 79 anos', 'faixa_etaria_80 a 84 anos',\n",
       "       'faixa_etaria_85 a 89 anos', 'faixa_etaria_90 a 94 anos',\n",
       "       'faixa_etaria_95 a 99 anos', 'faixa_etaria_inválido',\n",
       "       'grau_escolaridade_analfabeto',\n",
       "       'grau_escolaridade_ensino fundamental completo',\n",
       "       'grau_escolaridade_ensino fundamental incompleto',\n",
       "       'grau_escolaridade_ensino médio completo',\n",
       "       'grau_escolaridade_ensino médio incompleto',\n",
       "       'grau_escolaridade_lê e escreve', 'grau_escolaridade_superior completo',\n",
       "       'grau_escolaridade_superior incompleto', 'total_zona', 'nr_zona'],\n",
       "      dtype='object')"
      ]
     },
     "execution_count": 26,
     "metadata": {},
     "output_type": "execute_result"
    }
   ],
   "source": [
    "df_final.keys()"
   ]
  },
  {
   "cell_type": "markdown",
   "id": "f37c1bc6-1c90-45f2-ad7b-154bfb0ba0eb",
   "metadata": {},
   "source": [
    "Agora vou criar as colunas para a modelagem"
   ]
  },
  {
   "cell_type": "code",
   "execution_count": 27,
   "id": "c57eb135-9e64-4a75-8fb7-b96afa36515e",
   "metadata": {},
   "outputs": [],
   "source": [
    "df_modelagem = pd.DataFrame()"
   ]
  },
  {
   "cell_type": "code",
   "execution_count": 28,
   "id": "786e1400-fd8d-4a95-83e6-79b749c7a55f",
   "metadata": {},
   "outputs": [],
   "source": [
    "df_modelagem['nr_zona'] = df_final['nr_zona']"
   ]
  },
  {
   "cell_type": "code",
   "execution_count": 29,
   "id": "82c1160c-285a-4472-ab48-db5f55732d8e",
   "metadata": {},
   "outputs": [],
   "source": [
    "df_modelagem['prop_mulheres'] = df_final['genero_feminino']/df_final['total_zona']"
   ]
  },
  {
   "cell_type": "code",
   "execution_count": 30,
   "id": "24618733-e335-4167-8210-c6ac4f0fde36",
   "metadata": {},
   "outputs": [],
   "source": [
    "df_modelagem['prop_superior_completo'] = df_final['grau_escolaridade_superior completo']\\\n",
    "                                        /df_final['total_zona']"
   ]
  },
  {
   "cell_type": "code",
   "execution_count": 31,
   "id": "031c1e9c-6965-4cde-9265-1eda03752c68",
   "metadata": {},
   "outputs": [],
   "source": [
    "escol_menos_fund = [\n",
    "    'grau_escolaridade_analfabeto',\n",
    "    'grau_escolaridade_lê e escreve',\n",
    "    'grau_escolaridade_ensino fundamental incompleto',\n",
    "    ]"
   ]
  },
  {
   "cell_type": "code",
   "execution_count": 32,
   "id": "d8e2b471-41f7-4be6-b623-000d83fc586e",
   "metadata": {},
   "outputs": [],
   "source": [
    "df_modelagem['prop_sem_fundametal'] = df_final[escol_menos_fund].sum(axis=1)/df_final['total_zona']"
   ]
  },
  {
   "cell_type": "code",
   "execution_count": 33,
   "id": "28e49896-f6f3-46c0-b297-055d0449fc8e",
   "metadata": {},
   "outputs": [],
   "source": [
    "cols_mais_60 = [\n",
    "    'faixa_etaria_60 a 64 anos',\n",
    "    'faixa_etaria_65 a 69 anos', \n",
    "    'faixa_etaria_70 a 74 anos',\n",
    "    'faixa_etaria_75 a 79 anos', \n",
    "    'faixa_etaria_80 a 84 anos',\n",
    "    'faixa_etaria_85 a 89 anos',\n",
    "    'faixa_etaria_90 a 94 anos',\n",
    "    'faixa_etaria_95 a 99 anos'\n",
    "    ]"
   ]
  },
  {
   "cell_type": "code",
   "execution_count": 34,
   "id": "d7d35b78-fc99-4bff-a5b5-c31743900ed6",
   "metadata": {},
   "outputs": [],
   "source": [
    "df_modelagem['prop_mais_60_anos'] = df_final[cols_mais_60].sum(axis=1)/df_final['total_zona']"
   ]
  },
  {
   "cell_type": "code",
   "execution_count": 35,
   "id": "db4062bc-1600-4376-a5b2-9305b8211b8f",
   "metadata": {},
   "outputs": [],
   "source": [
    "cols_menos_25 = [\n",
    "    'faixa_etaria_16 anos',\n",
    "    'faixa_etaria_17 anos', \n",
    "    'faixa_etaria_18 anos', \n",
    "    'faixa_etaria_19 anos',\n",
    "    'faixa_etaria_20 anos', \n",
    "    'faixa_etaria_21 a 24 anos'\n",
    "    ]"
   ]
  },
  {
   "cell_type": "code",
   "execution_count": 36,
   "id": "4dab20d6-c511-46f4-9126-c45ad40bc9ec",
   "metadata": {},
   "outputs": [],
   "source": [
    "df_modelagem['prop_menos_25_anos'] = df_final[cols_menos_25].sum(axis=1)/df_final['total_zona']"
   ]
  },
  {
   "cell_type": "code",
   "execution_count": 37,
   "id": "50915440-a37a-4cc4-8622-9e4bb7a01270",
   "metadata": {},
   "outputs": [
    {
     "data": {
      "text/html": [
       "<div>\n",
       "<style scoped>\n",
       "    .dataframe tbody tr th:only-of-type {\n",
       "        vertical-align: middle;\n",
       "    }\n",
       "\n",
       "    .dataframe tbody tr th {\n",
       "        vertical-align: top;\n",
       "    }\n",
       "\n",
       "    .dataframe thead th {\n",
       "        text-align: right;\n",
       "    }\n",
       "</style>\n",
       "<table border=\"1\" class=\"dataframe\">\n",
       "  <thead>\n",
       "    <tr style=\"text-align: right;\">\n",
       "      <th></th>\n",
       "      <th>nr_zona</th>\n",
       "      <th>prop_mulheres</th>\n",
       "      <th>prop_superior_completo</th>\n",
       "      <th>prop_sem_fundametal</th>\n",
       "      <th>prop_mais_60_anos</th>\n",
       "      <th>prop_menos_25_anos</th>\n",
       "    </tr>\n",
       "  </thead>\n",
       "  <tbody>\n",
       "    <tr>\n",
       "      <th>0</th>\n",
       "      <td>1</td>\n",
       "      <td>0.521366</td>\n",
       "      <td>0.322225</td>\n",
       "      <td>0.154731</td>\n",
       "      <td>0.285246</td>\n",
       "      <td>0.071691</td>\n",
       "    </tr>\n",
       "    <tr>\n",
       "      <th>1</th>\n",
       "      <td>2</td>\n",
       "      <td>0.544536</td>\n",
       "      <td>0.432805</td>\n",
       "      <td>0.087887</td>\n",
       "      <td>0.324000</td>\n",
       "      <td>0.076005</td>\n",
       "    </tr>\n",
       "    <tr>\n",
       "      <th>2</th>\n",
       "      <td>3</td>\n",
       "      <td>0.501387</td>\n",
       "      <td>0.153666</td>\n",
       "      <td>0.229940</td>\n",
       "      <td>0.264833</td>\n",
       "      <td>0.102532</td>\n",
       "    </tr>\n",
       "    <tr>\n",
       "      <th>3</th>\n",
       "      <td>4</td>\n",
       "      <td>0.536943</td>\n",
       "      <td>0.257316</td>\n",
       "      <td>0.151490</td>\n",
       "      <td>0.302248</td>\n",
       "      <td>0.095024</td>\n",
       "    </tr>\n",
       "    <tr>\n",
       "      <th>4</th>\n",
       "      <td>5</td>\n",
       "      <td>0.546311</td>\n",
       "      <td>0.524865</td>\n",
       "      <td>0.057162</td>\n",
       "      <td>0.364926</td>\n",
       "      <td>0.059899</td>\n",
       "    </tr>\n",
       "    <tr>\n",
       "      <th>5</th>\n",
       "      <td>6</td>\n",
       "      <td>0.552555</td>\n",
       "      <td>0.429374</td>\n",
       "      <td>0.079574</td>\n",
       "      <td>0.318476</td>\n",
       "      <td>0.083337</td>\n",
       "    </tr>\n",
       "    <tr>\n",
       "      <th>6</th>\n",
       "      <td>20</td>\n",
       "      <td>0.543994</td>\n",
       "      <td>0.052214</td>\n",
       "      <td>0.301181</td>\n",
       "      <td>0.152717</td>\n",
       "      <td>0.160242</td>\n",
       "    </tr>\n",
       "    <tr>\n",
       "      <th>7</th>\n",
       "      <td>246</td>\n",
       "      <td>0.536280</td>\n",
       "      <td>0.362480</td>\n",
       "      <td>0.100450</td>\n",
       "      <td>0.300379</td>\n",
       "      <td>0.092375</td>\n",
       "    </tr>\n",
       "    <tr>\n",
       "      <th>8</th>\n",
       "      <td>247</td>\n",
       "      <td>0.534500</td>\n",
       "      <td>0.096444</td>\n",
       "      <td>0.263346</td>\n",
       "      <td>0.230581</td>\n",
       "      <td>0.119386</td>\n",
       "    </tr>\n",
       "    <tr>\n",
       "      <th>9</th>\n",
       "      <td>248</td>\n",
       "      <td>0.538055</td>\n",
       "      <td>0.098734</td>\n",
       "      <td>0.253334</td>\n",
       "      <td>0.197393</td>\n",
       "      <td>0.129274</td>\n",
       "    </tr>\n",
       "  </tbody>\n",
       "</table>\n",
       "</div>"
      ],
      "text/plain": [
       "   nr_zona  prop_mulheres  prop_superior_completo  prop_sem_fundametal  \\\n",
       "0        1       0.521366                0.322225             0.154731   \n",
       "1        2       0.544536                0.432805             0.087887   \n",
       "2        3       0.501387                0.153666             0.229940   \n",
       "3        4       0.536943                0.257316             0.151490   \n",
       "4        5       0.546311                0.524865             0.057162   \n",
       "5        6       0.552555                0.429374             0.079574   \n",
       "6       20       0.543994                0.052214             0.301181   \n",
       "7      246       0.536280                0.362480             0.100450   \n",
       "8      247       0.534500                0.096444             0.263346   \n",
       "9      248       0.538055                0.098734             0.253334   \n",
       "\n",
       "   prop_mais_60_anos  prop_menos_25_anos  \n",
       "0           0.285246            0.071691  \n",
       "1           0.324000            0.076005  \n",
       "2           0.264833            0.102532  \n",
       "3           0.302248            0.095024  \n",
       "4           0.364926            0.059899  \n",
       "5           0.318476            0.083337  \n",
       "6           0.152717            0.160242  \n",
       "7           0.300379            0.092375  \n",
       "8           0.230581            0.119386  \n",
       "9           0.197393            0.129274  "
      ]
     },
     "execution_count": 37,
     "metadata": {},
     "output_type": "execute_result"
    }
   ],
   "source": [
    "df_modelagem.head(10)"
   ]
  },
  {
   "cell_type": "code",
   "execution_count": 38,
   "id": "417e9ecb-7ca8-438e-bd5e-9ea14fda54e1",
   "metadata": {},
   "outputs": [],
   "source": [
    "gen_data_dir = solve_path('dados_modelagem', parent = 'data')"
   ]
  },
  {
   "cell_type": "code",
   "execution_count": 39,
   "id": "89cf7320-213c-4ca2-9b09-09262f1ca06e",
   "metadata": {},
   "outputs": [
    {
     "data": {
      "text/plain": [
       "'/home/h-pgy/Desktop/Projetos/mulheres_bolsonaro/data/dados_modelagem'"
      ]
     },
     "execution_count": 39,
     "metadata": {},
     "output_type": "execute_result"
    }
   ],
   "source": [
    "gen_data_dir"
   ]
  },
  {
   "cell_type": "code",
   "execution_count": 40,
   "id": "976bf41d-590b-4385-8f76-64fef1c6bf19",
   "metadata": {},
   "outputs": [],
   "source": [
    "df_modelo_fname = solve_path('var_exogenas_modelo.csv', gen_data_dir)"
   ]
  },
  {
   "cell_type": "code",
   "execution_count": 41,
   "id": "9b6a3bce-65f5-44fa-8896-0182f5c85593",
   "metadata": {},
   "outputs": [],
   "source": [
    "df_modelagem.to_csv(df_modelo_fname, sep=';', index=False,encoding='utf-8')"
   ]
  },
  {
   "cell_type": "code",
   "execution_count": null,
   "id": "16565546-773b-4220-a7a1-157c6b545e15",
   "metadata": {},
   "outputs": [],
   "source": []
  }
 ],
 "metadata": {
  "kernelspec": {
   "display_name": "Python 3",
   "language": "python",
   "name": "python3"
  },
  "language_info": {
   "codemirror_mode": {
    "name": "ipython",
    "version": 3
   },
   "file_extension": ".py",
   "mimetype": "text/x-python",
   "name": "python",
   "nbconvert_exporter": "python",
   "pygments_lexer": "ipython3",
   "version": "3.8.8"
  }
 },
 "nbformat": 4,
 "nbformat_minor": 5
}
